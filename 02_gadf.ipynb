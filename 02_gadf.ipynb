{
 "cells": [
  {
   "attachments": {},
   "cell_type": "markdown",
   "metadata": {},
   "source": [
    "# GADF\n",
    "In this notebook we will experiment with GADF\n",
    "\n",
    "## Dependencies\n",
    "pyts\n",
    "[https://pypi.org/project/TA-Lib/](\"https://pypi.org/project/pyts/\")\n",
    "\n",
    "ta\n",
    "[https://github.com/bukosabino/ta](\"https://github.com/bukosabino/ta\")"
   ]
  },
  {
   "cell_type": "code",
   "execution_count": 52,
   "metadata": {},
   "outputs": [],
   "source": [
    "import pandas as pd\n",
    "import numpy as np\n",
    "\n",
    "import requests\n",
    "\n",
    "from dotenv import load_dotenv\n",
    "import os\n",
    "\n",
    "import torch\n",
    "import torch.nn as nn\n",
    "import torch.nn.functional as F\n",
    "import torch.optim as optim\n",
    "from torch.utils.data import Dataset, DataLoader\n",
    "\n",
    "import matplotlib as mpl\n",
    "import matplotlib.pyplot as plt\n",
    "import seaborn as sns\n",
    "\n",
    "import fastcore.all as fc\n",
    "\n",
    "from ta import add_all_ta_features\n",
    "from ta.utils import dropna\n",
    "\n",
    "from sklearn.preprocessing import RobustScaler, MinMaxScaler\n",
    "\n",
    "from pyts.image import GramianAngularField\n",
    "\n",
    "# data util functions\n",
    "from data import get_data, p2df, zscore_normalize, minmax_normalize, normalize_, create_window"
   ]
  },
  {
   "cell_type": "code",
   "execution_count": 53,
   "metadata": {},
   "outputs": [],
   "source": [
    "# FOR THIS WE WILL USE THE POLYGON API\n",
    "load_dotenv()\n",
    "POLYGON_API_KEY = os.getenv('POLYGON_API_KEY')"
   ]
  },
  {
   "cell_type": "code",
   "execution_count": 54,
   "metadata": {},
   "outputs": [],
   "source": [
    "# # load some data, we will use TSLA\n",
    "data = get_data(POLYGON_API_KEY, ticker=\"TSLA\", multiplier=30, timespan=\"minute\", from_=\"2022-01-09\", to=\"2023-02-10\", limit=50000)"
   ]
  },
  {
   "cell_type": "code",
   "execution_count": 55,
   "metadata": {},
   "outputs": [],
   "source": [
    "# def grab_btc(path):\n",
    "#     # grabbing 2017 btc min data\n",
    "#     df = pd.read_csv(path)[['date', 'open', 'high', 'low', 'close', 'Volume BTC']]\n",
    "\n",
    "#     # rename Volumne BTC to volume\n",
    "#     df.rename(columns={'Volume BTC': 'volume'}, inplace=True)\n",
    "\n",
    "#     # flip the dataset so that it is in chronological order\n",
    "#     df = df.iloc[::-1].reset_index(drop=True)\n",
    "#     return df"
   ]
  },
  {
   "cell_type": "code",
   "execution_count": 56,
   "metadata": {},
   "outputs": [],
   "source": [
    "# df1 = grab_btc('data/BTC-2017min.csv')\n",
    "# df2 = grab_btc('data/BTC-2018min.csv')\n",
    "# df3 = grab_btc('data/BTC-2019min.csv')\n",
    "# df4 = grab_btc('data/BTC-2020min.csv')\n",
    "# df5 = grab_btc('data/BTC-2021min.csv')\n",
    "\n",
    "# df = pd.concat([df1, df2, df3, df4, df5], axis=0).reset_index(drop=True)"
   ]
  },
  {
   "cell_type": "code",
   "execution_count": 57,
   "metadata": {},
   "outputs": [],
   "source": [
    "# turn our data into a dataframe\n",
    "df = p2df(data, convert_timestamp=True) # convert timestamp to datetime"
   ]
  },
  {
   "cell_type": "code",
   "execution_count": 58,
   "metadata": {},
   "outputs": [],
   "source": [
    "# # convert date to datetime\n",
    "# df['date'] = pd.to_datetime(df['data'], unit='ms')"
   ]
  },
  {
   "cell_type": "code",
   "execution_count": 59,
   "metadata": {},
   "outputs": [],
   "source": [
    "# # # with our 1min time interval data, we will resample to 3hr intervals\n",
    "# # df = df.resample('3H', on='date').agg({'open': 'first', 'high': 'max', 'low': 'min', 'close': 'last', 'volume': 'sum'})\n",
    "\n",
    "# # with our 1min time interval data, we will resample to 1D intervals\n",
    "# df = df.resample('1D', on='date').agg({'open': 'first', 'high': 'max', 'low': 'min', 'close': 'last', 'volume': 'sum'})"
   ]
  },
  {
   "cell_type": "code",
   "execution_count": 60,
   "metadata": {},
   "outputs": [],
   "source": [
    "# # lets grab the first 3 months of 2017\n",
    "# start_date = '2017-01-01'\n",
    "# end_date = '2018-01-01'\n",
    "# df= df.loc[start_date:end_date]"
   ]
  },
  {
   "cell_type": "code",
   "execution_count": 61,
   "metadata": {},
   "outputs": [
    {
     "data": {
      "text/html": [
       "<div>\n",
       "<style scoped>\n",
       "    .dataframe tbody tr th:only-of-type {\n",
       "        vertical-align: middle;\n",
       "    }\n",
       "\n",
       "    .dataframe tbody tr th {\n",
       "        vertical-align: top;\n",
       "    }\n",
       "\n",
       "    .dataframe thead th {\n",
       "        text-align: right;\n",
       "    }\n",
       "</style>\n",
       "<table border=\"1\" class=\"dataframe\">\n",
       "  <thead>\n",
       "    <tr style=\"text-align: right;\">\n",
       "      <th></th>\n",
       "      <th>open</th>\n",
       "      <th>high</th>\n",
       "      <th>low</th>\n",
       "      <th>close</th>\n",
       "      <th>volume</th>\n",
       "    </tr>\n",
       "  </thead>\n",
       "  <tbody>\n",
       "    <tr>\n",
       "      <th>0</th>\n",
       "      <td>341.0533</td>\n",
       "      <td>344.2433</td>\n",
       "      <td>340.0667</td>\n",
       "      <td>343.3467</td>\n",
       "      <td>139479.0</td>\n",
       "    </tr>\n",
       "    <tr>\n",
       "      <th>1</th>\n",
       "      <td>343.3333</td>\n",
       "      <td>344.2700</td>\n",
       "      <td>343.0267</td>\n",
       "      <td>343.7333</td>\n",
       "      <td>12648.0</td>\n",
       "    </tr>\n",
       "    <tr>\n",
       "      <th>2</th>\n",
       "      <td>343.3333</td>\n",
       "      <td>344.3333</td>\n",
       "      <td>343.0000</td>\n",
       "      <td>343.0000</td>\n",
       "      <td>29661.0</td>\n",
       "    </tr>\n",
       "    <tr>\n",
       "      <th>3</th>\n",
       "      <td>342.3333</td>\n",
       "      <td>342.3333</td>\n",
       "      <td>338.3367</td>\n",
       "      <td>339.3333</td>\n",
       "      <td>105303.0</td>\n",
       "    </tr>\n",
       "    <tr>\n",
       "      <th>4</th>\n",
       "      <td>338.6667</td>\n",
       "      <td>339.2700</td>\n",
       "      <td>337.8000</td>\n",
       "      <td>338.3333</td>\n",
       "      <td>45939.0</td>\n",
       "    </tr>\n",
       "  </tbody>\n",
       "</table>\n",
       "</div>"
      ],
      "text/plain": [
       "       open      high       low     close    volume\n",
       "0  341.0533  344.2433  340.0667  343.3467  139479.0\n",
       "1  343.3333  344.2700  343.0267  343.7333   12648.0\n",
       "2  343.3333  344.3333  343.0000  343.0000   29661.0\n",
       "3  342.3333  342.3333  338.3367  339.3333  105303.0\n",
       "4  338.6667  339.2700  337.8000  338.3333   45939.0"
      ]
     },
     "execution_count": 61,
     "metadata": {},
     "output_type": "execute_result"
    }
   ],
   "source": [
    "# for our GADF we will first add a lot of TA features\n",
    "# the only features we are interested in are open, high, low, close, volume so lets clear the rest\n",
    "df = df[['open', 'high', 'low', 'close', 'volume']]\n",
    "df.head()"
   ]
  },
  {
   "cell_type": "code",
   "execution_count": 62,
   "metadata": {},
   "outputs": [],
   "source": [
    "# lets drop any na values, there shouldnt be any with polgyon data\n",
    "df = dropna(df)"
   ]
  },
  {
   "cell_type": "code",
   "execution_count": 63,
   "metadata": {},
   "outputs": [
    {
     "name": "stderr",
     "output_type": "stream",
     "text": [
      "/opt/homebrew/Caskroom/miniforge/base/envs/nlp/lib/python3.9/site-packages/ta/trend.py:780: RuntimeWarning: invalid value encountered in double_scalars\n",
      "  dip[idx] = 100 * (self._dip[idx] / value)\n",
      "/opt/homebrew/Caskroom/miniforge/base/envs/nlp/lib/python3.9/site-packages/ta/trend.py:785: RuntimeWarning: invalid value encountered in double_scalars\n",
      "  din[idx] = 100 * (self._din[idx] / value)\n"
     ]
    }
   ],
   "source": [
    "# lets now add all the ta features\n",
    "df = add_all_ta_features(df, open=\"open\", high=\"high\", low=\"low\", close=\"close\", volume=\"volume\", fillna=True)"
   ]
  },
  {
   "cell_type": "code",
   "execution_count": 64,
   "metadata": {},
   "outputs": [
    {
     "data": {
      "text/html": [
       "<div>\n",
       "<style scoped>\n",
       "    .dataframe tbody tr th:only-of-type {\n",
       "        vertical-align: middle;\n",
       "    }\n",
       "\n",
       "    .dataframe tbody tr th {\n",
       "        vertical-align: top;\n",
       "    }\n",
       "\n",
       "    .dataframe thead th {\n",
       "        text-align: right;\n",
       "    }\n",
       "</style>\n",
       "<table border=\"1\" class=\"dataframe\">\n",
       "  <thead>\n",
       "    <tr style=\"text-align: right;\">\n",
       "      <th></th>\n",
       "      <th>open</th>\n",
       "      <th>high</th>\n",
       "      <th>low</th>\n",
       "      <th>close</th>\n",
       "      <th>volume</th>\n",
       "      <th>volume_adi</th>\n",
       "      <th>volume_obv</th>\n",
       "      <th>volume_cmf</th>\n",
       "      <th>volume_fi</th>\n",
       "      <th>volume_em</th>\n",
       "      <th>...</th>\n",
       "      <th>momentum_ppo</th>\n",
       "      <th>momentum_ppo_signal</th>\n",
       "      <th>momentum_ppo_hist</th>\n",
       "      <th>momentum_pvo</th>\n",
       "      <th>momentum_pvo_signal</th>\n",
       "      <th>momentum_pvo_hist</th>\n",
       "      <th>momentum_kama</th>\n",
       "      <th>others_dr</th>\n",
       "      <th>others_dlr</th>\n",
       "      <th>others_cr</th>\n",
       "    </tr>\n",
       "  </thead>\n",
       "  <tbody>\n",
       "    <tr>\n",
       "      <th>0</th>\n",
       "      <td>341.0533</td>\n",
       "      <td>344.2433</td>\n",
       "      <td>340.0667</td>\n",
       "      <td>343.3467</td>\n",
       "      <td>139479.0</td>\n",
       "      <td>7.959447e+04</td>\n",
       "      <td>139479.0</td>\n",
       "      <td>0.570656</td>\n",
       "      <td>0.000000e+00</td>\n",
       "      <td>0.000000</td>\n",
       "      <td>...</td>\n",
       "      <td>0.000000</td>\n",
       "      <td>0.000000</td>\n",
       "      <td>0.000000</td>\n",
       "      <td>0.000000</td>\n",
       "      <td>0.000000</td>\n",
       "      <td>0.000000</td>\n",
       "      <td>343.346700</td>\n",
       "      <td>9.886805</td>\n",
       "      <td>0.000000</td>\n",
       "      <td>0.000000</td>\n",
       "    </tr>\n",
       "    <tr>\n",
       "      <th>1</th>\n",
       "      <td>343.3333</td>\n",
       "      <td>344.2700</td>\n",
       "      <td>343.0267</td>\n",
       "      <td>343.7333</td>\n",
       "      <td>12648.0</td>\n",
       "      <td>8.132285e+04</td>\n",
       "      <td>152127.0</td>\n",
       "      <td>0.534572</td>\n",
       "      <td>4.889717e+03</td>\n",
       "      <td>14679.649391</td>\n",
       "      <td>...</td>\n",
       "      <td>0.008981</td>\n",
       "      <td>0.001796</td>\n",
       "      <td>0.007185</td>\n",
       "      <td>-7.777716</td>\n",
       "      <td>-1.555543</td>\n",
       "      <td>-6.222173</td>\n",
       "      <td>343.531336</td>\n",
       "      <td>0.112598</td>\n",
       "      <td>0.112534</td>\n",
       "      <td>0.112598</td>\n",
       "    </tr>\n",
       "    <tr>\n",
       "      <th>2</th>\n",
       "      <td>343.3333</td>\n",
       "      <td>344.3333</td>\n",
       "      <td>343.0000</td>\n",
       "      <td>343.0000</td>\n",
       "      <td>29661.0</td>\n",
       "      <td>5.166185e+04</td>\n",
       "      <td>122466.0</td>\n",
       "      <td>0.284187</td>\n",
       "      <td>1.083984e+03</td>\n",
       "      <td>82.260848</td>\n",
       "      <td>...</td>\n",
       "      <td>-0.001120</td>\n",
       "      <td>0.001213</td>\n",
       "      <td>-0.002333</td>\n",
       "      <td>-13.512116</td>\n",
       "      <td>-3.946858</td>\n",
       "      <td>-9.565258</td>\n",
       "      <td>343.365779</td>\n",
       "      <td>-0.213334</td>\n",
       "      <td>-0.213562</td>\n",
       "      <td>-0.100977</td>\n",
       "    </tr>\n",
       "    <tr>\n",
       "      <th>3</th>\n",
       "      <td>342.3333</td>\n",
       "      <td>342.3333</td>\n",
       "      <td>338.3367</td>\n",
       "      <td>339.3333</td>\n",
       "      <td>105303.0</td>\n",
       "      <td>-1.124029e+03</td>\n",
       "      <td>17163.0</td>\n",
       "      <td>-0.003915</td>\n",
       "      <td>-5.423009e+04</td>\n",
       "      <td>-12644.722743</td>\n",
       "      <td>...</td>\n",
       "      <td>-0.094295</td>\n",
       "      <td>-0.017889</td>\n",
       "      <td>-0.076406</td>\n",
       "      <td>-12.694289</td>\n",
       "      <td>-5.696344</td>\n",
       "      <td>-6.997945</td>\n",
       "      <td>342.782153</td>\n",
       "      <td>-1.069009</td>\n",
       "      <td>-1.074764</td>\n",
       "      <td>-1.168906</td>\n",
       "    </tr>\n",
       "    <tr>\n",
       "      <th>4</th>\n",
       "      <td>338.6667</td>\n",
       "      <td>339.2700</td>\n",
       "      <td>337.8000</td>\n",
       "      <td>338.3333</td>\n",
       "      <td>45939.0</td>\n",
       "      <td>-1.373069e+04</td>\n",
       "      <td>-28776.0</td>\n",
       "      <td>-0.041230</td>\n",
       "      <td>-5.304565e+04</td>\n",
       "      <td>-5759.811925</td>\n",
       "      <td>...</td>\n",
       "      <td>-0.189666</td>\n",
       "      <td>-0.052244</td>\n",
       "      <td>-0.137422</td>\n",
       "      <td>-16.456463</td>\n",
       "      <td>-7.848368</td>\n",
       "      <td>-8.608095</td>\n",
       "      <td>342.189016</td>\n",
       "      <td>-0.294696</td>\n",
       "      <td>-0.295131</td>\n",
       "      <td>-1.460157</td>\n",
       "    </tr>\n",
       "    <tr>\n",
       "      <th>...</th>\n",
       "      <td>...</td>\n",
       "      <td>...</td>\n",
       "      <td>...</td>\n",
       "      <td>...</td>\n",
       "      <td>...</td>\n",
       "      <td>...</td>\n",
       "      <td>...</td>\n",
       "      <td>...</td>\n",
       "      <td>...</td>\n",
       "      <td>...</td>\n",
       "      <td>...</td>\n",
       "      <td>...</td>\n",
       "      <td>...</td>\n",
       "      <td>...</td>\n",
       "      <td>...</td>\n",
       "      <td>...</td>\n",
       "      <td>...</td>\n",
       "      <td>...</td>\n",
       "      <td>...</td>\n",
       "      <td>...</td>\n",
       "      <td>...</td>\n",
       "    </tr>\n",
       "    <tr>\n",
       "      <th>2127</th>\n",
       "      <td>328.3300</td>\n",
       "      <td>329.3167</td>\n",
       "      <td>327.3967</td>\n",
       "      <td>328.2267</td>\n",
       "      <td>2253906.0</td>\n",
       "      <td>2.455609e+08</td>\n",
       "      <td>124300716.0</td>\n",
       "      <td>-0.348336</td>\n",
       "      <td>-1.958595e+06</td>\n",
       "      <td>-56.222398</td>\n",
       "      <td>...</td>\n",
       "      <td>-0.683183</td>\n",
       "      <td>-0.407714</td>\n",
       "      <td>-0.275469</td>\n",
       "      <td>25.107246</td>\n",
       "      <td>15.686686</td>\n",
       "      <td>9.420560</td>\n",
       "      <td>331.601562</td>\n",
       "      <td>-0.038556</td>\n",
       "      <td>-0.038563</td>\n",
       "      <td>-4.403712</td>\n",
       "    </tr>\n",
       "    <tr>\n",
       "      <th>2128</th>\n",
       "      <td>328.2267</td>\n",
       "      <td>329.3400</td>\n",
       "      <td>328.1900</td>\n",
       "      <td>328.2800</td>\n",
       "      <td>2076033.0</td>\n",
       "      <td>2.438098e+08</td>\n",
       "      <td>126376749.0</td>\n",
       "      <td>-0.376144</td>\n",
       "      <td>-1.662988e+06</td>\n",
       "      <td>22.617415</td>\n",
       "      <td>...</td>\n",
       "      <td>-0.708021</td>\n",
       "      <td>-0.467775</td>\n",
       "      <td>-0.240246</td>\n",
       "      <td>20.761982</td>\n",
       "      <td>16.701745</td>\n",
       "      <td>4.060237</td>\n",
       "      <td>330.941827</td>\n",
       "      <td>0.016239</td>\n",
       "      <td>0.016237</td>\n",
       "      <td>-4.388188</td>\n",
       "    </tr>\n",
       "    <tr>\n",
       "      <th>2129</th>\n",
       "      <td>328.3533</td>\n",
       "      <td>331.9300</td>\n",
       "      <td>328.3533</td>\n",
       "      <td>331.9067</td>\n",
       "      <td>3449898.0</td>\n",
       "      <td>2.472148e+08</td>\n",
       "      <td>129826647.0</td>\n",
       "      <td>-0.262830</td>\n",
       "      <td>3.619739e+05</td>\n",
       "      <td>142.724917</td>\n",
       "      <td>...</td>\n",
       "      <td>-0.632157</td>\n",
       "      <td>-0.500652</td>\n",
       "      <td>-0.131505</td>\n",
       "      <td>21.070001</td>\n",
       "      <td>17.575396</td>\n",
       "      <td>3.494605</td>\n",
       "      <td>330.962600</td>\n",
       "      <td>1.104758</td>\n",
       "      <td>1.098700</td>\n",
       "      <td>-3.331909</td>\n",
       "    </tr>\n",
       "    <tr>\n",
       "      <th>2130</th>\n",
       "      <td>331.9188</td>\n",
       "      <td>332.6667</td>\n",
       "      <td>330.4434</td>\n",
       "      <td>330.7500</td>\n",
       "      <td>2978973.0</td>\n",
       "      <td>2.450574e+08</td>\n",
       "      <td>126847674.0</td>\n",
       "      <td>-0.293222</td>\n",
       "      <td>-1.819906e+05</td>\n",
       "      <td>105.486428</td>\n",
       "      <td>...</td>\n",
       "      <td>-0.593360</td>\n",
       "      <td>-0.519193</td>\n",
       "      <td>-0.074167</td>\n",
       "      <td>19.673155</td>\n",
       "      <td>17.994948</td>\n",
       "      <td>1.678207</td>\n",
       "      <td>330.957186</td>\n",
       "      <td>-0.348502</td>\n",
       "      <td>-0.349110</td>\n",
       "      <td>-3.668799</td>\n",
       "    </tr>\n",
       "    <tr>\n",
       "      <th>2131</th>\n",
       "      <td>330.7300</td>\n",
       "      <td>331.0700</td>\n",
       "      <td>329.0000</td>\n",
       "      <td>329.1430</td>\n",
       "      <td>2083239.0</td>\n",
       "      <td>2.432620e+08</td>\n",
       "      <td>124764435.0</td>\n",
       "      <td>-0.319495</td>\n",
       "      <td>-6.342441e+05</td>\n",
       "      <td>-151.039007</td>\n",
       "      <td>...</td>\n",
       "      <td>-0.594942</td>\n",
       "      <td>-0.534343</td>\n",
       "      <td>-0.060599</td>\n",
       "      <td>15.821416</td>\n",
       "      <td>17.560242</td>\n",
       "      <td>-1.738825</td>\n",
       "      <td>330.899501</td>\n",
       "      <td>-0.485865</td>\n",
       "      <td>-0.487050</td>\n",
       "      <td>-4.136839</td>\n",
       "    </tr>\n",
       "  </tbody>\n",
       "</table>\n",
       "<p>2132 rows × 91 columns</p>\n",
       "</div>"
      ],
      "text/plain": [
       "          open      high       low     close     volume    volume_adi  \\\n",
       "0     341.0533  344.2433  340.0667  343.3467   139479.0  7.959447e+04   \n",
       "1     343.3333  344.2700  343.0267  343.7333    12648.0  8.132285e+04   \n",
       "2     343.3333  344.3333  343.0000  343.0000    29661.0  5.166185e+04   \n",
       "3     342.3333  342.3333  338.3367  339.3333   105303.0 -1.124029e+03   \n",
       "4     338.6667  339.2700  337.8000  338.3333    45939.0 -1.373069e+04   \n",
       "...        ...       ...       ...       ...        ...           ...   \n",
       "2127  328.3300  329.3167  327.3967  328.2267  2253906.0  2.455609e+08   \n",
       "2128  328.2267  329.3400  328.1900  328.2800  2076033.0  2.438098e+08   \n",
       "2129  328.3533  331.9300  328.3533  331.9067  3449898.0  2.472148e+08   \n",
       "2130  331.9188  332.6667  330.4434  330.7500  2978973.0  2.450574e+08   \n",
       "2131  330.7300  331.0700  329.0000  329.1430  2083239.0  2.432620e+08   \n",
       "\n",
       "       volume_obv  volume_cmf     volume_fi     volume_em  ...  momentum_ppo  \\\n",
       "0        139479.0    0.570656  0.000000e+00      0.000000  ...      0.000000   \n",
       "1        152127.0    0.534572  4.889717e+03  14679.649391  ...      0.008981   \n",
       "2        122466.0    0.284187  1.083984e+03     82.260848  ...     -0.001120   \n",
       "3         17163.0   -0.003915 -5.423009e+04 -12644.722743  ...     -0.094295   \n",
       "4        -28776.0   -0.041230 -5.304565e+04  -5759.811925  ...     -0.189666   \n",
       "...           ...         ...           ...           ...  ...           ...   \n",
       "2127  124300716.0   -0.348336 -1.958595e+06    -56.222398  ...     -0.683183   \n",
       "2128  126376749.0   -0.376144 -1.662988e+06     22.617415  ...     -0.708021   \n",
       "2129  129826647.0   -0.262830  3.619739e+05    142.724917  ...     -0.632157   \n",
       "2130  126847674.0   -0.293222 -1.819906e+05    105.486428  ...     -0.593360   \n",
       "2131  124764435.0   -0.319495 -6.342441e+05   -151.039007  ...     -0.594942   \n",
       "\n",
       "      momentum_ppo_signal  momentum_ppo_hist  momentum_pvo  \\\n",
       "0                0.000000           0.000000      0.000000   \n",
       "1                0.001796           0.007185     -7.777716   \n",
       "2                0.001213          -0.002333    -13.512116   \n",
       "3               -0.017889          -0.076406    -12.694289   \n",
       "4               -0.052244          -0.137422    -16.456463   \n",
       "...                   ...                ...           ...   \n",
       "2127            -0.407714          -0.275469     25.107246   \n",
       "2128            -0.467775          -0.240246     20.761982   \n",
       "2129            -0.500652          -0.131505     21.070001   \n",
       "2130            -0.519193          -0.074167     19.673155   \n",
       "2131            -0.534343          -0.060599     15.821416   \n",
       "\n",
       "      momentum_pvo_signal  momentum_pvo_hist  momentum_kama  others_dr  \\\n",
       "0                0.000000           0.000000     343.346700   9.886805   \n",
       "1               -1.555543          -6.222173     343.531336   0.112598   \n",
       "2               -3.946858          -9.565258     343.365779  -0.213334   \n",
       "3               -5.696344          -6.997945     342.782153  -1.069009   \n",
       "4               -7.848368          -8.608095     342.189016  -0.294696   \n",
       "...                   ...                ...            ...        ...   \n",
       "2127            15.686686           9.420560     331.601562  -0.038556   \n",
       "2128            16.701745           4.060237     330.941827   0.016239   \n",
       "2129            17.575396           3.494605     330.962600   1.104758   \n",
       "2130            17.994948           1.678207     330.957186  -0.348502   \n",
       "2131            17.560242          -1.738825     330.899501  -0.485865   \n",
       "\n",
       "      others_dlr  others_cr  \n",
       "0       0.000000   0.000000  \n",
       "1       0.112534   0.112598  \n",
       "2      -0.213562  -0.100977  \n",
       "3      -1.074764  -1.168906  \n",
       "4      -0.295131  -1.460157  \n",
       "...          ...        ...  \n",
       "2127   -0.038563  -4.403712  \n",
       "2128    0.016237  -4.388188  \n",
       "2129    1.098700  -3.331909  \n",
       "2130   -0.349110  -3.668799  \n",
       "2131   -0.487050  -4.136839  \n",
       "\n",
       "[2132 rows x 91 columns]"
      ]
     },
     "execution_count": 64,
     "metadata": {},
     "output_type": "execute_result"
    }
   ],
   "source": [
    "df"
   ]
  },
  {
   "cell_type": "code",
   "execution_count": 65,
   "metadata": {},
   "outputs": [],
   "source": [
    "# # let's remove some features\n",
    "# remove = ['trend_psar_up', 'trend_psar_down']\n",
    "# df.drop(columns=remove,axis=1,inplace=True)"
   ]
  },
  {
   "cell_type": "code",
   "execution_count": 66,
   "metadata": {},
   "outputs": [],
   "source": [
    "# window_size = 2\n",
    "# target = df['close'].rolling(window_size).apply(lambda x: (x[-1] - x[0]) / x[0], raw=True).values\n",
    "\n",
    "# creating windows 1 month with 1d intervals\n",
    "window_size = 12\n",
    "target = df['close'].rolling(window_size).apply(lambda x: (x[-1] - x[0]) / x[0], raw=True).values"
   ]
  },
  {
   "cell_type": "code",
   "execution_count": 67,
   "metadata": {},
   "outputs": [],
   "source": [
    "# lets scale our data, not including our target\n",
    "scaler = MinMaxScaler(feature_range=(0,1))\n",
    "scaler = scaler.fit(df.values)\n",
    "data_normalized = scaler.transform(df.values)"
   ]
  },
  {
   "cell_type": "code",
   "execution_count": 68,
   "metadata": {},
   "outputs": [
    {
     "data": {
      "text/plain": [
       "((2132,), (2132, 91))"
      ]
     },
     "execution_count": 68,
     "metadata": {},
     "output_type": "execute_result"
    }
   ],
   "source": [
    "target.shape, data_normalized.shape"
   ]
  },
  {
   "cell_type": "code",
   "execution_count": 69,
   "metadata": {},
   "outputs": [],
   "source": [
    "from dataclasses import dataclass"
   ]
  },
  {
   "cell_type": "code",
   "execution_count": 70,
   "metadata": {},
   "outputs": [],
   "source": [
    "class Data:\n",
    "    def __init__(self, data, target): self.data, self.target = data, target\n",
    "    def __len__(self): return len(self.data)\n",
    "    def __getitem__(self, i): return self.data[i], self.target[i]"
   ]
  },
  {
   "cell_type": "code",
   "execution_count": 71,
   "metadata": {},
   "outputs": [],
   "source": [
    "data = Data(data_normalized, target)"
   ]
  },
  {
   "cell_type": "code",
   "execution_count": 72,
   "metadata": {},
   "outputs": [],
   "source": [
    "def create_window(data, start=0, size=28):\n",
    "    \"\"\"Create a window of data\"\"\"\n",
    "    x, y = data[start:start+size]\n",
    "    return {'data': x, 'target': y[-1]}"
   ]
  },
  {
   "cell_type": "code",
   "execution_count": 73,
   "metadata": {},
   "outputs": [
    {
     "data": {
      "text/plain": [
       "(12, 91)"
      ]
     },
     "execution_count": 73,
     "metadata": {},
     "output_type": "execute_result"
    }
   ],
   "source": [
    "window = create_window(data, start=1, size=window_size)\n",
    "window['data'].shape"
   ]
  },
  {
   "cell_type": "code",
   "execution_count": 74,
   "metadata": {},
   "outputs": [
    {
     "data": {
      "text/plain": [
       "2120"
      ]
     },
     "execution_count": 74,
     "metadata": {},
     "output_type": "execute_result"
    }
   ],
   "source": [
    "# create window sliding with stride of 1\n",
    "windows = [create_window(data, start=i, size=window_size) for i in range(len(data)-window_size)]\n",
    "len(windows)"
   ]
  },
  {
   "cell_type": "code",
   "execution_count": 75,
   "metadata": {},
   "outputs": [],
   "source": [
    "# create a split of windows to train and test\n",
    "train_split = int(len(windows) * 0.8)\n",
    "train_windows = windows[:train_split]\n",
    "test_windows = windows[train_split:]"
   ]
  },
  {
   "cell_type": "code",
   "execution_count": 76,
   "metadata": {},
   "outputs": [],
   "source": [
    "gasf = GramianAngularField(image_size=28, method='summation')\n",
    "gadf = GramianAngularField(image_size=28, method='difference')"
   ]
  },
  {
   "cell_type": "code",
   "execution_count": 77,
   "metadata": {},
   "outputs": [],
   "source": [
    "# lets create our CNN dataset class\n",
    "class CNNDataset(Dataset):\n",
    "    def __init__(self, windows, transform_fn=gasf, conv3d=False):\n",
    "        self.conv3d = conv3d\n",
    "        self.X = [transform_fn.fit_transform(window['data']) for window in windows]\n",
    "        self.y = [window['target'] for window in windows]\n",
    "\n",
    "    def __len__(self): return len(self.y)\n",
    "    def __getitem__(self, idx):\n",
    "        x = torch.tensor(self.X[idx], dtype=torch.float)\n",
    "        # reshape for conv3\n",
    "        if self.conv3d: x = x[None, :, :, :]\n",
    "        y = torch.tensor(self.y[idx], dtype=torch.float).unsqueeze(0)\n",
    "        return x, y"
   ]
  },
  {
   "cell_type": "code",
   "execution_count": 78,
   "metadata": {},
   "outputs": [],
   "source": [
    "from dataclasses import dataclass"
   ]
  },
  {
   "cell_type": "code",
   "execution_count": 79,
   "metadata": {},
   "outputs": [],
   "source": [
    "@dataclass\n",
    "class Dls:\n",
    "    train: DataLoader\n",
    "    valid: DataLoader"
   ]
  },
  {
   "cell_type": "code",
   "execution_count": 80,
   "metadata": {},
   "outputs": [],
   "source": [
    "conv3d = False\n",
    "\n",
    "train_ds = CNNDataset(train_windows, conv3d=conv3d)\n",
    "valid_ds = CNNDataset(test_windows, conv3d=conv3d)"
   ]
  },
  {
   "cell_type": "code",
   "execution_count": 81,
   "metadata": {},
   "outputs": [],
   "source": [
    "# create our dataloaders\n",
    "dls = Dls(\n",
    "    train = DataLoader(train_ds, batch_size=32, shuffle=True),\n",
    "    valid = DataLoader(valid_ds, batch_size=32, shuffle=False))"
   ]
  },
  {
   "cell_type": "code",
   "execution_count": 82,
   "metadata": {},
   "outputs": [],
   "source": [
    "xb, yb = next(iter(dls.train))"
   ]
  },
  {
   "cell_type": "code",
   "execution_count": 83,
   "metadata": {},
   "outputs": [
    {
     "data": {
      "text/plain": [
       "(torch.Size([32, 12, 28, 28]), torch.Size([32, 1]))"
      ]
     },
     "execution_count": 83,
     "metadata": {},
     "output_type": "execute_result"
    }
   ],
   "source": [
    "xb.shape, yb.shape"
   ]
  },
  {
   "cell_type": "code",
   "execution_count": 84,
   "metadata": {},
   "outputs": [],
   "source": [
    "def_device = \"mps\" if torch.backends.mps.is_available() else 'cuda' if torch.cuda.is_available() else 'cpu'\n",
    "def_device = 'cpu' if conv3d else def_device\n",
    "\n",
    "def to_device(data, device=def_device):\n",
    "    \"\"\"Move tensor(s) to chosen device\"\"\"\n",
    "    if isinstance(data, (list,tuple)): return [to_device(x, device) for x in data]\n",
    "    return data.to(device, non_blocking=True)"
   ]
  },
  {
   "cell_type": "code",
   "execution_count": 85,
   "metadata": {},
   "outputs": [],
   "source": [
    "class Learner:\n",
    "    \"\"\"This is our main class that will be responsible to experimenting and training various models. It serves the purpose of being a vehicle to experiment quickly\"\"\"\n",
    "    def __init__(self, model, dls, loss_func, lr, opt_func=optim.SGD):\n",
    "        \"\"\"\n",
    "        model: <PyTorch Model> the model we are going to train\n",
    "        dls: <Pytorch DataLoader> the dataloaders we are going to use\n",
    "        loss_func: <Callable> the loss function we are going to use\n",
    "        lr: <float> the learning rate we are going to use\n",
    "        opt_func: <PyTorch optimizer (can be custom)> the optimizer we are going to use\n",
    "        \"\"\"\n",
    "        fc.store_attr() # easy method to store all attributes, prevents mistakes\n",
    "\n",
    "    def one_batch(self):\n",
    "        \"\"\"This method is responsible for one batch of training/evaluation\"\"\"\n",
    "        self.xb, self.yb = to_device(self.batch) # move batch to device\n",
    "        self.preds = self.model(self.xb) # get predictions\n",
    "        self.loss = self.loss_func(self.preds, self.yb) # calculate loss\n",
    "        if self.model.training:\n",
    "            self.loss.backward() # calculate gradients\n",
    "            self.opt.step() # update weights\n",
    "            self.opt.zero_grad() # zero gradients\n",
    "        with torch.no_grad(): self.calc_stats()\n",
    "\n",
    "    def calc_stats(self):\n",
    "        \"\"\"This method is responsible for calculating statistics\"\"\"\n",
    "        n = len(self.xb)\n",
    "        self.losses.append(self.loss*n)\n",
    "        self.ns.append(n)\n",
    "    \n",
    "    def one_epoch(self, train):\n",
    "        self.model.training = train # set model to training mode or evaluation mode\n",
    "        dl = self.dls.train if train else self.dls.valid # get the correct dataloader\n",
    "        for self.num, self.batch in enumerate(dl): \n",
    "            self.one_batch() # call one_batch method, self.batch will be set to the current batch\n",
    "        n = sum(self.ns)\n",
    "        print(f\"Epoch: {self.epoch+1}\", 'train' if self.model.training else 'valid', f\"Loss: {sum(self.losses).item()/n}\")\n",
    "    \n",
    "    def fit(self, n_epochs):\n",
    "        \"\"\"Very lightweight fit method, this is the highest level to train a model via the Learner object\"\"\"\n",
    "        self.losses, self.ns = [], []\n",
    "        self.model.to(def_device) # place model on appropriate device TODO: Allow this to be changed via fit calls if necessary\n",
    "        self.opt = self.opt_func(self.model.parameters(), lr=self.lr) # create optimizer\n",
    "        self.n_epochs = n_epochs\n",
    "        for self.epoch in range(n_epochs):\n",
    "            self.one_epoch(True) # training\n",
    "            self.one_epoch(False) # evaluation"
   ]
  },
  {
   "cell_type": "code",
   "execution_count": 86,
   "metadata": {},
   "outputs": [],
   "source": [
    "def conv(ni, nf, ks=3, stride=2, act=True):\n",
    "    res = nn.Conv2d(ni, nf, kernel_size=ks, stride=stride, padding=ks//2)\n",
    "    if act: res = nn.Sequential(res, nn.ReLU())\n",
    "    return res"
   ]
  },
  {
   "cell_type": "code",
   "execution_count": 87,
   "metadata": {},
   "outputs": [],
   "source": [
    "# # Let's now create a simple cnn\n",
    "# simple_cnn = nn.Sequential(\n",
    "#     conv(20, 4),\n",
    "#     conv(4, 8),\n",
    "#     conv(8, 16),\n",
    "#     conv(16, 16),\n",
    "#     conv(16, 1, act=False),\n",
    "#     nn.Flatten() # flatten our conv output to feed into a linear layer\n",
    "# )"
   ]
  },
  {
   "cell_type": "code",
   "execution_count": 88,
   "metadata": {},
   "outputs": [],
   "source": [
    "class SimpleCNN2D(nn.Module):\n",
    "    def __init__(self, input_shape):\n",
    "        super().__init__()\n",
    "        batch_size, channels, height, width = input_shape\n",
    "        self.conv_layers = nn.Sequential(\n",
    "            conv(channels, 16),\n",
    "            conv(16, 32),\n",
    "            conv(32, 64),\n",
    "            conv(64, 64),\n",
    "            conv(64, 1, act=False),\n",
    "        )\n",
    "        self.head = nn.Sequential(\n",
    "            nn.Flatten(),\n",
    "        )\n",
    "\n",
    "    def forward(self, x):\n",
    "        x = self.conv_layers(x)\n",
    "        x = self.head(x)\n",
    "        return x\n",
    "\n",
    "class SimpleCNN3D(nn.Module):\n",
    "    def __init__(self, input_shape):\n",
    "        super(SimpleCNN3D, self).__init__()\n",
    "        batch_size, channels, depth, height, width = input_shape\n",
    "        self.conv_layers = nn.Sequential(\n",
    "            nn.Conv3d(1, 16, kernel_size=(3, 3, 3), stride=(1, 1, 1), padding=(1, 1, 1)),\n",
    "            nn.ReLU(),\n",
    "            nn.MaxPool3d(kernel_size=(2, 2, 2), stride=(2, 2, 2)),\n",
    "            nn.Conv3d(16, 32, kernel_size=(3, 3, 3), stride=(1, 1, 1), padding=(1, 1, 1)),\n",
    "            nn.ReLU(),\n",
    "            nn.MaxPool3d(kernel_size=(2, 2, 2), stride=(2, 2, 2)),\n",
    "        )\n",
    "        # calculate the output size of the convolutional layers\n",
    "        conv_output_size = self._get_conv_output(input_shape)\n",
    "        self.head = nn.Sequential(\n",
    "            nn.Flatten(),\n",
    "            nn.Linear(conv_output_size, 64),\n",
    "            nn.ReLU(),\n",
    "            nn.Linear(64, 1)\n",
    "        )\n",
    "\n",
    "    def forward(self, x):\n",
    "        x = self.conv_layers(x)\n",
    "        x = self.head(x)\n",
    "        return x\n",
    "\n",
    "    def _get_conv_output(self, shape):\n",
    "        batch_size = shape[0]\n",
    "        input = torch.autograd.Variable(torch.rand(*shape))\n",
    "        output_feat = self.conv_layers(input)\n",
    "        n_size = output_feat.data.view(batch_size, -1).size(1)\n",
    "        return n_size\n",
    "    \n",
    "class TinyCNN(nn.Module):\n",
    "    def __init__(self, input_shape):\n",
    "        super(TinyCNN, self).__init__()\n",
    "        _, _, depth, height, width = input_shape\n",
    "        self.conv_layers = nn.Sequential(\n",
    "            nn.Conv3d(1, 4, kernel_size=(3, 3, 3), stride=(1, 1, 1), padding=(1, 1, 1)),\n",
    "            nn.ReLU(),\n",
    "            nn.MaxPool3d(kernel_size=(2, 2, 2), stride=(2, 2, 2)),\n",
    "        )\n",
    "        # calculate the output size of the convolutional layers\n",
    "        conv_output_size = self._get_conv_output(input_shape)\n",
    "        self.head = nn.Sequential(\n",
    "            nn.Flatten(),\n",
    "            nn.Linear(conv_output_size, 16),\n",
    "            nn.ReLU(),\n",
    "            nn.Linear(16, 1)\n",
    "        )\n",
    "    def forward(self, x):\n",
    "        x = self.conv_layers(x)\n",
    "        x = self.head(x)\n",
    "        return x\n",
    "\n",
    "    def _get_conv_output(self, shape):\n",
    "        batch_size = shape[0]\n",
    "        input = torch.autograd.Variable(torch.rand(*shape))\n",
    "        output_feat = self.conv_layers(input)\n",
    "        n_size = output_feat.data.view(batch_size, -1).size(1)\n",
    "        return n_size"
   ]
  },
  {
   "cell_type": "code",
   "execution_count": 223,
   "metadata": {},
   "outputs": [],
   "source": [
    "# create a simple 2d cnn\n",
    "simple_cnn = SimpleCNN2D(xb.shape)"
   ]
  },
  {
   "cell_type": "code",
   "execution_count": 224,
   "metadata": {},
   "outputs": [
    {
     "data": {
      "text/plain": [
       "62385"
      ]
     },
     "execution_count": 224,
     "metadata": {},
     "output_type": "execute_result"
    }
   ],
   "source": [
    "# number of parameters\n",
    "sum(p.numel() for p in simple_cnn.parameters() if p.requires_grad)"
   ]
  },
  {
   "cell_type": "code",
   "execution_count": 225,
   "metadata": {},
   "outputs": [],
   "source": [
    "learn = Learner(simple_cnn, dls, nn.MSELoss(), lr=0.01, opt_func=optim.RAdam)"
   ]
  },
  {
   "cell_type": "code",
   "execution_count": 226,
   "metadata": {},
   "outputs": [
    {
     "name": "stdout",
     "output_type": "stream",
     "text": [
      "Epoch: 1 train Loss: 0.0006843284475353529\n",
      "Epoch: 1 valid Loss: 0.0005851855255522818\n",
      "Epoch: 2 train Loss: 0.0004198080088857335\n",
      "Epoch: 2 valid Loss: 0.00038881403095317337\n",
      "Epoch: 3 train Loss: 0.0003121235982748376\n",
      "Epoch: 3 valid Loss: 0.00030027474247434606\n",
      "Epoch: 4 train Loss: 0.0002577023982054664\n",
      "Epoch: 4 valid Loss: 0.00025212641032236927\n",
      "Epoch: 5 train Loss: 0.0002242482308321779\n",
      "Epoch: 5 valid Loss: 0.00021896526498614617\n",
      "Epoch: 6 train Loss: 0.0001980824833499509\n",
      "Epoch: 6 valid Loss: 0.00019425176224618587\n",
      "Epoch: 7 train Loss: 0.00017815861400303644\n",
      "Epoch: 7 valid Loss: 0.00017509953673637782\n"
     ]
    }
   ],
   "source": [
    "learn.fit(7)"
   ]
  },
  {
   "cell_type": "code",
   "execution_count": 227,
   "metadata": {},
   "outputs": [],
   "source": [
    "# # save our model\n",
    "# torch.save(simple_cnn.state_dict(), \"simple_cnn_tsla_3.pth\")"
   ]
  },
  {
   "cell_type": "code",
   "execution_count": 228,
   "metadata": {},
   "outputs": [],
   "source": [
    "# # load our model\n",
    "# simple_cnn.load_state_dict(torch.load(\"simple_cnn_tsla.pth\"))"
   ]
  },
  {
   "cell_type": "code",
   "execution_count": 229,
   "metadata": {},
   "outputs": [],
   "source": [
    "# let's run some predictions, we will plot the predictions and the actual values\n",
    "def plot_preds(preds, yb):\n",
    "    plt.plot(preds, label=\"preds\")\n",
    "    plt.plot(yb, label=\"actual\")\n",
    "    plt.legend()"
   ]
  },
  {
   "cell_type": "code",
   "execution_count": 230,
   "metadata": {},
   "outputs": [],
   "source": [
    "def predict_plot(xb, yb, model):\n",
    "    # move to device\n",
    "    xb, yb = to_device(xb), to_device(yb)\n",
    "    if isinstance(model, nn.Module): model = to_device(model)\n",
    "\n",
    "    # get predictions\n",
    "    preds = model(xb)\n",
    "\n",
    "    # plot predictions\n",
    "    with torch.no_grad(): plot_preds(preds.squeeze().detach().cpu().numpy(), yb.squeeze().detach().cpu().numpy())"
   ]
  },
  {
   "cell_type": "code",
   "execution_count": 231,
   "metadata": {},
   "outputs": [
    {
     "data": {
      "image/png": "[encoded data removed]",
      "text/plain": [
       "<Figure size 432x288 with 1 Axes>"
      ]
     },
     "metadata": {
      "needs_background": "light"
     },
     "output_type": "display_data"
    }
   ],
   "source": [
    "# plot predictions\n",
    "xb, yb = next(iter(dls.valid))\n",
    "predict_plot(xb, yb, simple_cnn)"
   ]
  },
  {
   "cell_type": "code",
   "execution_count": 232,
   "metadata": {},
   "outputs": [
    {
     "data": {
      "image/png": "[encoded data removed]",
      "text/plain": [
       "<Figure size 432x288 with 1 Axes>"
      ]
     },
     "metadata": {
      "needs_background": "light"
     },
     "output_type": "display_data"
    }
   ],
   "source": [
    "# plot predictions\n",
    "xb, yb = next(iter(dls.train))\n",
    "predict_plot(xb, yb, simple_cnn)"
   ]
  },
  {
   "cell_type": "code",
   "execution_count": null,
   "metadata": {},
   "outputs": [],
   "source": [
    "from functools import partial"
   ]
  },
  {
   "cell_type": "code",
   "execution_count": null,
   "metadata": {},
   "outputs": [],
   "source": [
    "def load_model(path, cnn):\n",
    "    # load our model\n",
    "    cnn.load_state_dict(torch.load(path))\n",
    "    cnn.eval()\n",
    "    return cnn\n",
    "\n",
    "def ensemble(models, xb):\n",
    "    models = [to_device(m) for m in models]\n",
    "    outs = 0\n",
    "    for model in models:\n",
    "        outs += model(xb)\n",
    "    return outs/len(models)"
   ]
  },
  {
   "cell_type": "code",
   "execution_count": null,
   "metadata": {},
   "outputs": [
    {
     "data": {
      "text/plain": [
       "<All keys matched successfully>"
      ]
     },
     "execution_count": 388,
     "metadata": {},
     "output_type": "execute_result"
    }
   ],
   "source": [
    "model1 = nn.Sequential(conv(20, 4), conv(4, 8), conv(8, 16), conv(16, 16),\n",
    "    conv(16, 1, act=False), nn.Flatten())\n",
    "model1.load_state_dict(torch.load(\"./model_weights/simple_cnn_tsla.pth\"))"
   ]
  },
  {
   "cell_type": "code",
   "execution_count": null,
   "metadata": {},
   "outputs": [
    {
     "data": {
      "text/plain": [
       "<All keys matched successfully>"
      ]
     },
     "execution_count": 380,
     "metadata": {},
     "output_type": "execute_result"
    }
   ],
   "source": [
    "model2 = nn.Sequential(conv(20, 4), conv(4, 8), conv(8, 16), conv(16, 16),\n",
    "    conv(16, 1, act=False), nn.Flatten())\n",
    "model2.load_state_dict(torch.load(\"./model_weights/simple_cnn_tsla_2.pth\"))"
   ]
  },
  {
   "cell_type": "code",
   "execution_count": null,
   "metadata": {},
   "outputs": [
    {
     "data": {
      "text/plain": [
       "<All keys matched successfully>"
      ]
     },
     "execution_count": 381,
     "metadata": {},
     "output_type": "execute_result"
    }
   ],
   "source": [
    "model3 = nn.Sequential(conv(20, 4), conv(4, 8), conv(8, 16), conv(16, 16),\n",
    "    conv(16, 1, act=False), nn.Flatten())\n",
    "model3.load_state_dict(torch.load(\"./model_weights/simple_cnn_tsla_3.pth\"))"
   ]
  },
  {
   "cell_type": "code",
   "execution_count": null,
   "metadata": {},
   "outputs": [],
   "source": [
    "# plot predictions\n",
    "xb, yb = next(iter(dls.valid))"
   ]
  },
  {
   "cell_type": "code",
   "execution_count": null,
   "metadata": {},
   "outputs": [
    {
     "data": {
      "image/png": "[encoded data removed]",
      "text/plain": [
       "<Figure size 432x288 with 1 Axes>"
      ]
     },
     "metadata": {
      "needs_background": "light"
     },
     "output_type": "display_data"
    }
   ],
   "source": [
    "# plot predictions\n",
    "xb, yb = next(iter(dls.valid))\n",
    "predict_plot(xb, yb, model1)"
   ]
  },
  {
   "cell_type": "code",
   "execution_count": null,
   "metadata": {},
   "outputs": [
    {
     "data": {
      "image/png": "[encoded data removed]",
      "text/plain": [
       "<Figure size 432x288 with 1 Axes>"
      ]
     },
     "metadata": {
      "needs_background": "light"
     },
     "output_type": "display_data"
    }
   ],
   "source": [
    "# plot predictions\n",
    "predict_plot(xb, yb, model2)"
   ]
  },
  {
   "cell_type": "code",
   "execution_count": null,
   "metadata": {},
   "outputs": [
    {
     "data": {
      "image/png": "[encoded data removed]",
      "text/plain": [
       "<Figure size 432x288 with 1 Axes>"
      ]
     },
     "metadata": {
      "needs_background": "light"
     },
     "output_type": "display_data"
    }
   ],
   "source": [
    "# plot predictions\n",
    "predict_plot(xb, yb, model3)"
   ]
  },
  {
   "cell_type": "code",
   "execution_count": null,
   "metadata": {},
   "outputs": [
    {
     "data": {
      "image/png": "[encoded data removed]",
      "text/plain": [
       "<Figure size 432x288 with 1 Axes>"
      ]
     },
     "metadata": {
      "needs_background": "light"
     },
     "output_type": "display_data"
    }
   ],
   "source": [
    "predict_plot(xb, yb, model=partial(ensemble, [model1, model2, model3]))"
   ]
  },
  {
   "cell_type": "code",
   "execution_count": null,
   "metadata": {},
   "outputs": [],
   "source": []
  },
  {
   "cell_type": "code",
   "execution_count": null,
   "metadata": {},
   "outputs": [],
   "source": []
  }
 ],
 "metadata": {
  "kernelspec": {
   "display_name": "nlp",
   "language": "python",
   "name": "python3"
  },
  "language_info": {
   "codemirror_mode": {
    "name": "ipython",
    "version": 3
   },
   "file_extension": ".py",
   "mimetype": "text/x-python",
   "name": "python",
   "nbconvert_exporter": "python",
   "pygments_lexer": "ipython3",
   "version": "3.9.6"
  },
  "orig_nbformat": 4,
  "vscode": {
   "interpreter": {
    "hash": "0638b84c441d23f3bf1e5bbb68dbbbae5f508c99744b50e7a508082753ac4090"
   }
  }
 },
 "nbformat": 4,
 "nbformat_minor": 2
}
