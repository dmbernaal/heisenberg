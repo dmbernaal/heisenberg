{
 "cells": [
  {
   "attachments": {},
   "cell_type": "markdown",
   "metadata": {},
   "source": [
    "# GADF\n",
    "In this notebook we will experiment with GADF\n",
    "\n",
    "## Dependencies\n",
    "pyts\n",
    "[https://pypi.org/project/TA-Lib/](\"https://pypi.org/project/pyts/\")\n",
    "\n",
    "ta\n",
    "[https://github.com/bukosabino/ta](\"https://github.com/bukosabino/ta\")"
   ]
  },
  {
   "cell_type": "code",
   "execution_count": 1,
   "metadata": {},
   "outputs": [],
   "source": [
    "import pandas as pd\n",
    "import numpy as np\n",
    "\n",
    "from dotenv import load_dotenv\n",
    "import os\n",
    "\n",
    "import torch\n",
    "import torch.nn as nn\n",
    "import torch.nn.functional as F\n",
    "import torch.optim as optim\n",
    "from torch.utils.data import Dataset, DataLoader\n",
    "\n",
    "import matplotlib as mpl\n",
    "import matplotlib.pyplot as plt\n",
    "import seaborn as sns\n",
    "\n",
    "import fastcore.all as fc\n",
    "\n",
    "from ta import add_all_ta_features\n",
    "from ta.utils import dropna\n",
    "\n",
    "from sklearn.preprocessing import RobustScaler, MinMaxScaler\n",
    "\n",
    "from pyts.image import GramianAngularField\n",
    "\n",
    "# data util functions\n",
    "from data import get_data, p2df, zscore_normalize, minmax_normalize, normalize_, create_window"
   ]
  },
  {
   "cell_type": "code",
   "execution_count": 2,
   "metadata": {},
   "outputs": [],
   "source": [
    "# FOR THIS WE WILL USE THE POLYGON API\n",
    "load_dotenv()\n",
    "POLYGON_API_KEY = os.getenv('POLYGON_API_KEY')"
   ]
  },
  {
   "cell_type": "code",
   "execution_count": 3,
   "metadata": {},
   "outputs": [],
   "source": [
    "# load some data, we will use TSLA\n",
    "data = get_data(POLYGON_API_KEY, ticker=\"TSLA\", multiplier=1, timespan=\"day\", from_=\"2021-01-09\", to=\"2023-01-10\", limit=5000)"
   ]
  },
  {
   "cell_type": "code",
   "execution_count": 4,
   "metadata": {},
   "outputs": [],
   "source": [
    "# turn our data into a dataframe\n",
    "df = p2df(data, convert_timestamp=True) # convert timestamp to datetime"
   ]
  },
  {
   "cell_type": "code",
   "execution_count": 5,
   "metadata": {},
   "outputs": [
    {
     "data": {
      "text/html": [
       "<div>\n",
       "<style scoped>\n",
       "    .dataframe tbody tr th:only-of-type {\n",
       "        vertical-align: middle;\n",
       "    }\n",
       "\n",
       "    .dataframe tbody tr th {\n",
       "        vertical-align: top;\n",
       "    }\n",
       "\n",
       "    .dataframe thead th {\n",
       "        text-align: right;\n",
       "    }\n",
       "</style>\n",
       "<table border=\"1\" class=\"dataframe\">\n",
       "  <thead>\n",
       "    <tr style=\"text-align: right;\">\n",
       "      <th></th>\n",
       "      <th>timestamp</th>\n",
       "      <th>open</th>\n",
       "      <th>high</th>\n",
       "      <th>low</th>\n",
       "      <th>close</th>\n",
       "      <th>volume</th>\n",
       "      <th>vwap</th>\n",
       "      <th>transactions</th>\n",
       "    </tr>\n",
       "  </thead>\n",
       "  <tbody>\n",
       "    <tr>\n",
       "      <th>0</th>\n",
       "      <td>2021-02-25 05:00:00</td>\n",
       "      <td>242.0500</td>\n",
       "      <td>245.7355</td>\n",
       "      <td>223.5267</td>\n",
       "      <td>227.4067</td>\n",
       "      <td>117071565.0</td>\n",
       "      <td>233.8999</td>\n",
       "      <td>1292751</td>\n",
       "    </tr>\n",
       "    <tr>\n",
       "      <th>1</th>\n",
       "      <td>2021-02-26 05:00:00</td>\n",
       "      <td>233.3333</td>\n",
       "      <td>235.5667</td>\n",
       "      <td>219.8367</td>\n",
       "      <td>225.1667</td>\n",
       "      <td>123267519.0</td>\n",
       "      <td>226.8575</td>\n",
       "      <td>1141064</td>\n",
       "    </tr>\n",
       "    <tr>\n",
       "      <th>2</th>\n",
       "      <td>2021-03-01 05:00:00</td>\n",
       "      <td>230.0367</td>\n",
       "      <td>290.6667</td>\n",
       "      <td>228.3500</td>\n",
       "      <td>239.4767</td>\n",
       "      <td>81408606.0</td>\n",
       "      <td>235.6278</td>\n",
       "      <td>820200</td>\n",
       "    </tr>\n",
       "    <tr>\n",
       "      <th>3</th>\n",
       "      <td>2021-03-02 05:00:00</td>\n",
       "      <td>239.4267</td>\n",
       "      <td>240.3700</td>\n",
       "      <td>228.3333</td>\n",
       "      <td>228.8133</td>\n",
       "      <td>71196474.0</td>\n",
       "      <td>234.0729</td>\n",
       "      <td>842209</td>\n",
       "    </tr>\n",
       "    <tr>\n",
       "      <th>4</th>\n",
       "      <td>2021-03-03 05:00:00</td>\n",
       "      <td>229.3300</td>\n",
       "      <td>233.5667</td>\n",
       "      <td>217.2350</td>\n",
       "      <td>217.7333</td>\n",
       "      <td>90548880.0</td>\n",
       "      <td>225.2051</td>\n",
       "      <td>1046906</td>\n",
       "    </tr>\n",
       "  </tbody>\n",
       "</table>\n",
       "</div>"
      ],
      "text/plain": [
       "            timestamp      open      high       low     close       volume  \\\n",
       "0 2021-02-25 05:00:00  242.0500  245.7355  223.5267  227.4067  117071565.0   \n",
       "1 2021-02-26 05:00:00  233.3333  235.5667  219.8367  225.1667  123267519.0   \n",
       "2 2021-03-01 05:00:00  230.0367  290.6667  228.3500  239.4767   81408606.0   \n",
       "3 2021-03-02 05:00:00  239.4267  240.3700  228.3333  228.8133   71196474.0   \n",
       "4 2021-03-03 05:00:00  229.3300  233.5667  217.2350  217.7333   90548880.0   \n",
       "\n",
       "       vwap  transactions  \n",
       "0  233.8999       1292751  \n",
       "1  226.8575       1141064  \n",
       "2  235.6278        820200  \n",
       "3  234.0729        842209  \n",
       "4  225.2051       1046906  "
      ]
     },
     "execution_count": 5,
     "metadata": {},
     "output_type": "execute_result"
    }
   ],
   "source": [
    "df.head()"
   ]
  },
  {
   "cell_type": "code",
   "execution_count": 6,
   "metadata": {},
   "outputs": [
    {
     "data": {
      "text/html": [
       "<div>\n",
       "<style scoped>\n",
       "    .dataframe tbody tr th:only-of-type {\n",
       "        vertical-align: middle;\n",
       "    }\n",
       "\n",
       "    .dataframe tbody tr th {\n",
       "        vertical-align: top;\n",
       "    }\n",
       "\n",
       "    .dataframe thead th {\n",
       "        text-align: right;\n",
       "    }\n",
       "</style>\n",
       "<table border=\"1\" class=\"dataframe\">\n",
       "  <thead>\n",
       "    <tr style=\"text-align: right;\">\n",
       "      <th></th>\n",
       "      <th>open</th>\n",
       "      <th>high</th>\n",
       "      <th>low</th>\n",
       "      <th>close</th>\n",
       "      <th>volume</th>\n",
       "    </tr>\n",
       "  </thead>\n",
       "  <tbody>\n",
       "    <tr>\n",
       "      <th>0</th>\n",
       "      <td>242.0500</td>\n",
       "      <td>245.7355</td>\n",
       "      <td>223.5267</td>\n",
       "      <td>227.4067</td>\n",
       "      <td>117071565.0</td>\n",
       "    </tr>\n",
       "    <tr>\n",
       "      <th>1</th>\n",
       "      <td>233.3333</td>\n",
       "      <td>235.5667</td>\n",
       "      <td>219.8367</td>\n",
       "      <td>225.1667</td>\n",
       "      <td>123267519.0</td>\n",
       "    </tr>\n",
       "    <tr>\n",
       "      <th>2</th>\n",
       "      <td>230.0367</td>\n",
       "      <td>290.6667</td>\n",
       "      <td>228.3500</td>\n",
       "      <td>239.4767</td>\n",
       "      <td>81408606.0</td>\n",
       "    </tr>\n",
       "    <tr>\n",
       "      <th>3</th>\n",
       "      <td>239.4267</td>\n",
       "      <td>240.3700</td>\n",
       "      <td>228.3333</td>\n",
       "      <td>228.8133</td>\n",
       "      <td>71196474.0</td>\n",
       "    </tr>\n",
       "    <tr>\n",
       "      <th>4</th>\n",
       "      <td>229.3300</td>\n",
       "      <td>233.5667</td>\n",
       "      <td>217.2350</td>\n",
       "      <td>217.7333</td>\n",
       "      <td>90548880.0</td>\n",
       "    </tr>\n",
       "  </tbody>\n",
       "</table>\n",
       "</div>"
      ],
      "text/plain": [
       "       open      high       low     close       volume\n",
       "0  242.0500  245.7355  223.5267  227.4067  117071565.0\n",
       "1  233.3333  235.5667  219.8367  225.1667  123267519.0\n",
       "2  230.0367  290.6667  228.3500  239.4767   81408606.0\n",
       "3  239.4267  240.3700  228.3333  228.8133   71196474.0\n",
       "4  229.3300  233.5667  217.2350  217.7333   90548880.0"
      ]
     },
     "execution_count": 6,
     "metadata": {},
     "output_type": "execute_result"
    }
   ],
   "source": [
    "# for our GADF we will first add a lot of TA features\n",
    "# the only features we are interested in are open, high, low, close, volume so lets clear the rest\n",
    "df = df[['open', 'high', 'low', 'close', 'volume']]\n",
    "df.head()"
   ]
  },
  {
   "cell_type": "code",
   "execution_count": 7,
   "metadata": {},
   "outputs": [],
   "source": [
    "# lets drop any na values, there shouldnt be any with polgyon data\n",
    "df = dropna(df)"
   ]
  },
  {
   "cell_type": "code",
   "execution_count": 8,
   "metadata": {},
   "outputs": [
    {
     "name": "stderr",
     "output_type": "stream",
     "text": [
      "/opt/homebrew/Caskroom/miniforge/base/envs/nlp/lib/python3.9/site-packages/ta/trend.py:780: RuntimeWarning: invalid value encountered in double_scalars\n",
      "  dip[idx] = 100 * (self._dip[idx] / value)\n",
      "/opt/homebrew/Caskroom/miniforge/base/envs/nlp/lib/python3.9/site-packages/ta/trend.py:785: RuntimeWarning: invalid value encountered in double_scalars\n",
      "  din[idx] = 100 * (self._din[idx] / value)\n"
     ]
    }
   ],
   "source": [
    "# lets now add all the ta features\n",
    "df = add_all_ta_features(df, open=\"open\", high=\"high\", low=\"low\", close=\"close\", volume=\"volume\", fillna=True)"
   ]
  },
  {
   "cell_type": "code",
   "execution_count": 9,
   "metadata": {},
   "outputs": [
    {
     "data": {
      "text/html": [
       "<div>\n",
       "<style scoped>\n",
       "    .dataframe tbody tr th:only-of-type {\n",
       "        vertical-align: middle;\n",
       "    }\n",
       "\n",
       "    .dataframe tbody tr th {\n",
       "        vertical-align: top;\n",
       "    }\n",
       "\n",
       "    .dataframe thead th {\n",
       "        text-align: right;\n",
       "    }\n",
       "</style>\n",
       "<table border=\"1\" class=\"dataframe\">\n",
       "  <thead>\n",
       "    <tr style=\"text-align: right;\">\n",
       "      <th></th>\n",
       "      <th>open</th>\n",
       "      <th>high</th>\n",
       "      <th>low</th>\n",
       "      <th>close</th>\n",
       "      <th>volume</th>\n",
       "      <th>volume_adi</th>\n",
       "      <th>volume_obv</th>\n",
       "      <th>volume_cmf</th>\n",
       "      <th>volume_fi</th>\n",
       "      <th>volume_em</th>\n",
       "      <th>...</th>\n",
       "      <th>momentum_ppo</th>\n",
       "      <th>momentum_ppo_signal</th>\n",
       "      <th>momentum_ppo_hist</th>\n",
       "      <th>momentum_pvo</th>\n",
       "      <th>momentum_pvo_signal</th>\n",
       "      <th>momentum_pvo_hist</th>\n",
       "      <th>momentum_kama</th>\n",
       "      <th>others_dr</th>\n",
       "      <th>others_dlr</th>\n",
       "      <th>others_cr</th>\n",
       "    </tr>\n",
       "  </thead>\n",
       "  <tbody>\n",
       "    <tr>\n",
       "      <th>0</th>\n",
       "      <td>242.0500</td>\n",
       "      <td>245.7355</td>\n",
       "      <td>223.5267</td>\n",
       "      <td>227.4067</td>\n",
       "      <td>117071565.0</td>\n",
       "      <td>-7.616547e+07</td>\n",
       "      <td>117071565.0</td>\n",
       "      <td>-0.650589</td>\n",
       "      <td>0.000000e+00</td>\n",
       "      <td>0.000000</td>\n",
       "      <td>...</td>\n",
       "      <td>0.000000</td>\n",
       "      <td>0.000000</td>\n",
       "      <td>0.000000</td>\n",
       "      <td>0.000000</td>\n",
       "      <td>0.000000</td>\n",
       "      <td>0.000000</td>\n",
       "      <td>227.406700</td>\n",
       "      <td>-12.130716</td>\n",
       "      <td>0.000000</td>\n",
       "      <td>0.000000</td>\n",
       "    </tr>\n",
       "    <tr>\n",
       "      <th>1</th>\n",
       "      <td>233.3333</td>\n",
       "      <td>235.5667</td>\n",
       "      <td>219.8367</td>\n",
       "      <td>225.1667</td>\n",
       "      <td>123267519.0</td>\n",
       "      <td>-1.158963e+08</td>\n",
       "      <td>-6195954.0</td>\n",
       "      <td>-0.482220</td>\n",
       "      <td>-2.761192e+08</td>\n",
       "      <td>-88.425128</td>\n",
       "      <td>...</td>\n",
       "      <td>-0.078634</td>\n",
       "      <td>-0.015727</td>\n",
       "      <td>-0.062908</td>\n",
       "      <td>0.420541</td>\n",
       "      <td>0.084108</td>\n",
       "      <td>0.336433</td>\n",
       "      <td>226.384017</td>\n",
       "      <td>-0.985019</td>\n",
       "      <td>-0.989903</td>\n",
       "      <td>-0.985019</td>\n",
       "    </tr>\n",
       "    <tr>\n",
       "      <th>2</th>\n",
       "      <td>230.0367</td>\n",
       "      <td>290.6667</td>\n",
       "      <td>228.3500</td>\n",
       "      <td>239.4767</td>\n",
       "      <td>81408606.0</td>\n",
       "      <td>-1.682338e+08</td>\n",
       "      <td>75212652.0</td>\n",
       "      <td>-0.522875</td>\n",
       "      <td>-7.025119e+07</td>\n",
       "      <td>2434.737018</td>\n",
       "      <td>...</td>\n",
       "      <td>0.361559</td>\n",
       "      <td>0.059730</td>\n",
       "      <td>0.301829</td>\n",
       "      <td>-2.144705</td>\n",
       "      <td>-0.361654</td>\n",
       "      <td>-1.783050</td>\n",
       "      <td>231.593859</td>\n",
       "      <td>6.355291</td>\n",
       "      <td>6.161511</td>\n",
       "      <td>5.307671</td>\n",
       "    </tr>\n",
       "    <tr>\n",
       "      <th>3</th>\n",
       "      <td>239.4267</td>\n",
       "      <td>240.3700</td>\n",
       "      <td>228.3333</td>\n",
       "      <td>228.8133</td>\n",
       "      <td>71196474.0</td>\n",
       "      <td>-2.337519e+08</td>\n",
       "      <td>4016178.0</td>\n",
       "      <td>-0.594873</td>\n",
       "      <td>-1.686719e+08</td>\n",
       "      <td>-425.307089</td>\n",
       "      <td>...</td>\n",
       "      <td>0.329156</td>\n",
       "      <td>0.113615</td>\n",
       "      <td>0.215540</td>\n",
       "      <td>-4.987459</td>\n",
       "      <td>-1.286815</td>\n",
       "      <td>-3.700644</td>\n",
       "      <td>230.803910</td>\n",
       "      <td>-4.452792</td>\n",
       "      <td>-4.554974</td>\n",
       "      <td>0.618539</td>\n",
       "    </tr>\n",
       "    <tr>\n",
       "      <th>4</th>\n",
       "      <td>229.3300</td>\n",
       "      <td>233.5667</td>\n",
       "      <td>217.2350</td>\n",
       "      <td>217.7333</td>\n",
       "      <td>90548880.0</td>\n",
       "      <td>-3.187753e+08</td>\n",
       "      <td>-86532702.0</td>\n",
       "      <td>-0.659317</td>\n",
       "      <td>-2.879019e+08</td>\n",
       "      <td>-161.439634</td>\n",
       "      <td>...</td>\n",
       "      <td>-0.087549</td>\n",
       "      <td>0.073383</td>\n",
       "      <td>-0.160932</td>\n",
       "      <td>-5.807319</td>\n",
       "      <td>-2.190916</td>\n",
       "      <td>-3.616403</td>\n",
       "      <td>227.349884</td>\n",
       "      <td>-4.842376</td>\n",
       "      <td>-4.963547</td>\n",
       "      <td>-4.253788</td>\n",
       "    </tr>\n",
       "  </tbody>\n",
       "</table>\n",
       "<p>5 rows × 91 columns</p>\n",
       "</div>"
      ],
      "text/plain": [
       "       open      high       low     close       volume    volume_adi  \\\n",
       "0  242.0500  245.7355  223.5267  227.4067  117071565.0 -7.616547e+07   \n",
       "1  233.3333  235.5667  219.8367  225.1667  123267519.0 -1.158963e+08   \n",
       "2  230.0367  290.6667  228.3500  239.4767   81408606.0 -1.682338e+08   \n",
       "3  239.4267  240.3700  228.3333  228.8133   71196474.0 -2.337519e+08   \n",
       "4  229.3300  233.5667  217.2350  217.7333   90548880.0 -3.187753e+08   \n",
       "\n",
       "    volume_obv  volume_cmf     volume_fi    volume_em  ...  momentum_ppo  \\\n",
       "0  117071565.0   -0.650589  0.000000e+00     0.000000  ...      0.000000   \n",
       "1   -6195954.0   -0.482220 -2.761192e+08   -88.425128  ...     -0.078634   \n",
       "2   75212652.0   -0.522875 -7.025119e+07  2434.737018  ...      0.361559   \n",
       "3    4016178.0   -0.594873 -1.686719e+08  -425.307089  ...      0.329156   \n",
       "4  -86532702.0   -0.659317 -2.879019e+08  -161.439634  ...     -0.087549   \n",
       "\n",
       "   momentum_ppo_signal  momentum_ppo_hist  momentum_pvo  momentum_pvo_signal  \\\n",
       "0             0.000000           0.000000      0.000000             0.000000   \n",
       "1            -0.015727          -0.062908      0.420541             0.084108   \n",
       "2             0.059730           0.301829     -2.144705            -0.361654   \n",
       "3             0.113615           0.215540     -4.987459            -1.286815   \n",
       "4             0.073383          -0.160932     -5.807319            -2.190916   \n",
       "\n",
       "   momentum_pvo_hist  momentum_kama  others_dr  others_dlr  others_cr  \n",
       "0           0.000000     227.406700 -12.130716    0.000000   0.000000  \n",
       "1           0.336433     226.384017  -0.985019   -0.989903  -0.985019  \n",
       "2          -1.783050     231.593859   6.355291    6.161511   5.307671  \n",
       "3          -3.700644     230.803910  -4.452792   -4.554974   0.618539  \n",
       "4          -3.616403     227.349884  -4.842376   -4.963547  -4.253788  \n",
       "\n",
       "[5 rows x 91 columns]"
      ]
     },
     "execution_count": 9,
     "metadata": {},
     "output_type": "execute_result"
    }
   ],
   "source": [
    "df.head()"
   ]
  },
  {
   "cell_type": "code",
   "execution_count": 10,
   "metadata": {},
   "outputs": [],
   "source": [
    "# let's remove some features\n",
    "remove = ['trend_psar_up', 'trend_psar_down']\n",
    "df.drop(columns=remove,axis=1,inplace=True)"
   ]
  },
  {
   "cell_type": "code",
   "execution_count": 11,
   "metadata": {},
   "outputs": [],
   "source": [
    "window_size = 20\n",
    "target = df['close'].rolling(window_size).apply(lambda x: (x[-1] - x[0]) / x[0], raw=True).values"
   ]
  },
  {
   "cell_type": "code",
   "execution_count": 12,
   "metadata": {},
   "outputs": [],
   "source": [
    "# lets scale our data, not including our target\n",
    "scaler = MinMaxScaler(feature_range=(0,1))\n",
    "scaler = scaler.fit(df.values)\n",
    "data_normalized = scaler.transform(df.values)"
   ]
  },
  {
   "cell_type": "code",
   "execution_count": 13,
   "metadata": {},
   "outputs": [
    {
     "data": {
      "text/plain": [
       "((473,), (473, 89))"
      ]
     },
     "execution_count": 13,
     "metadata": {},
     "output_type": "execute_result"
    }
   ],
   "source": [
    "target.shape, data_normalized.shape"
   ]
  },
  {
   "cell_type": "code",
   "execution_count": 14,
   "metadata": {},
   "outputs": [],
   "source": [
    "from dataclasses import dataclass"
   ]
  },
  {
   "cell_type": "code",
   "execution_count": 15,
   "metadata": {},
   "outputs": [],
   "source": [
    "class Data:\n",
    "    def __init__(self, data, target): self.data, self.target = data, target\n",
    "    def __len__(self): return len(self.data)\n",
    "    def __getitem__(self, i): return self.data[i], self.target[i]"
   ]
  },
  {
   "cell_type": "code",
   "execution_count": 16,
   "metadata": {},
   "outputs": [],
   "source": [
    "data = Data(data_normalized, target)"
   ]
  },
  {
   "cell_type": "code",
   "execution_count": 17,
   "metadata": {},
   "outputs": [],
   "source": [
    "def create_window(data, start=0, size=28):\n",
    "    \"\"\"Create a window of data\"\"\"\n",
    "    x, y = data[start:start+size]\n",
    "    return {'data': x, 'target': y[-1]}"
   ]
  },
  {
   "cell_type": "code",
   "execution_count": 18,
   "metadata": {},
   "outputs": [
    {
     "data": {
      "text/plain": [
       "(20, 89)"
      ]
     },
     "execution_count": 18,
     "metadata": {},
     "output_type": "execute_result"
    }
   ],
   "source": [
    "window = create_window(data, start=2, size=window_size)\n",
    "window['data'].shape"
   ]
  },
  {
   "cell_type": "code",
   "execution_count": 19,
   "metadata": {},
   "outputs": [],
   "source": [
    "# create window sliding with stride of 1\n",
    "windows = [create_window(data, start=i, size=window_size) for i in range(len(data)-window_size)]"
   ]
  },
  {
   "cell_type": "code",
   "execution_count": 20,
   "metadata": {},
   "outputs": [],
   "source": [
    "# create a split of windows to train and test\n",
    "train_split = int(len(windows) * 0.8)\n",
    "train_windows = windows[:train_split]\n",
    "test_windows = windows[train_split:]"
   ]
  },
  {
   "cell_type": "code",
   "execution_count": 21,
   "metadata": {},
   "outputs": [],
   "source": [
    "gasf = GramianAngularField(image_size=28, method='summation')\n",
    "gadf = GramianAngularField(image_size=28, method='difference')"
   ]
  },
  {
   "cell_type": "code",
   "execution_count": 22,
   "metadata": {},
   "outputs": [],
   "source": [
    "# lets create our CNN dataset class\n",
    "class CNNDataset(Dataset):\n",
    "    def __init__(self, windows, transform_fn=gasf):\n",
    "        self.X = [transform_fn.fit_transform(window['data']) for window in windows]\n",
    "        self.y = [window['target'] for window in windows]\n",
    "\n",
    "    def __len__(self): return len(self.y)\n",
    "    def __getitem__(self, idx):\n",
    "        x = torch.tensor(self.X[idx], dtype=torch.float)\n",
    "        y = torch.tensor(self.y[idx], dtype=torch.float).unsqueeze(0)\n",
    "        return x, y"
   ]
  },
  {
   "cell_type": "code",
   "execution_count": 23,
   "metadata": {},
   "outputs": [],
   "source": [
    "from dataclasses import dataclass"
   ]
  },
  {
   "cell_type": "code",
   "execution_count": 24,
   "metadata": {},
   "outputs": [],
   "source": [
    "@dataclass\n",
    "class Dls:\n",
    "    train: DataLoader\n",
    "    valid: DataLoader"
   ]
  },
  {
   "cell_type": "code",
   "execution_count": 25,
   "metadata": {},
   "outputs": [],
   "source": [
    "train_ds = CNNDataset(train_windows)\n",
    "valid_ds = CNNDataset(test_windows)"
   ]
  },
  {
   "cell_type": "code",
   "execution_count": 26,
   "metadata": {},
   "outputs": [],
   "source": [
    "# create our dataloaders\n",
    "dls = Dls(\n",
    "    train = DataLoader(train_ds, batch_size=32, shuffle=True),\n",
    "    valid = DataLoader(valid_ds, batch_size=32, shuffle=False))"
   ]
  },
  {
   "cell_type": "code",
   "execution_count": 27,
   "metadata": {},
   "outputs": [],
   "source": [
    "xb, yb = next(iter(dls.train))"
   ]
  },
  {
   "cell_type": "code",
   "execution_count": 28,
   "metadata": {},
   "outputs": [
    {
     "data": {
      "text/plain": [
       "(torch.Size([32, 20, 28, 28]), torch.Size([32, 1]))"
      ]
     },
     "execution_count": 28,
     "metadata": {},
     "output_type": "execute_result"
    }
   ],
   "source": [
    "xb.shape, yb.shape"
   ]
  },
  {
   "cell_type": "code",
   "execution_count": 30,
   "metadata": {},
   "outputs": [],
   "source": [
    "def_device = \"mps\" if torch.backends.mps.is_available() else 'cuda' if torch.cuda.is_available() else 'cpu'\n",
    "\n",
    "def to_device(data, device=def_device):\n",
    "    \"\"\"Move tensor(s) to chosen device\"\"\"\n",
    "    if isinstance(data, (list,tuple)): return [to_device(x, device) for x in data]\n",
    "    return data.to(device, non_blocking=True)"
   ]
  },
  {
   "cell_type": "code",
   "execution_count": 31,
   "metadata": {},
   "outputs": [],
   "source": [
    "class Learner:\n",
    "    \"\"\"This is our main class that will be responsible to experimenting and training various models. It serves the purpose of being a vehicle to experiment quickly\"\"\"\n",
    "    def __init__(self, model, dls, loss_func, lr, opt_func=optim.SGD):\n",
    "        \"\"\"\n",
    "        model: <PyTorch Model> the model we are going to train\n",
    "        dls: <Pytorch DataLoader> the dataloaders we are going to use\n",
    "        loss_func: <Callable> the loss function we are going to use\n",
    "        lr: <float> the learning rate we are going to use\n",
    "        opt_func: <PyTorch optimizer (can be custom)> the optimizer we are going to use\n",
    "        \"\"\"\n",
    "        fc.store_attr() # easy method to store all attributes, prevents mistakes\n",
    "\n",
    "    def one_batch(self):\n",
    "        \"\"\"This method is responsible for one batch of training/evaluation\"\"\"\n",
    "        self.xb, self.yb = to_device(self.batch) # move batch to device\n",
    "        self.preds = self.model(self.xb) # get predictions\n",
    "        self.loss = self.loss_func(self.preds, self.yb) # calculate loss\n",
    "        if self.model.training:\n",
    "            self.loss.backward() # calculate gradients\n",
    "            self.opt.step() # update weights\n",
    "            self.opt.zero_grad() # zero gradients\n",
    "        with torch.no_grad(): self.calc_stats()\n",
    "\n",
    "    def calc_stats(self):\n",
    "        \"\"\"This method is responsible for calculating statistics\"\"\"\n",
    "        n = len(self.xb)\n",
    "        self.losses.append(self.loss*n)\n",
    "        self.ns.append(n)\n",
    "    \n",
    "    def one_epoch(self, train):\n",
    "        self.model.training = train # set model to training mode or evaluation mode\n",
    "        dl = self.dls.train if train else self.dls.valid # get the correct dataloader\n",
    "        for self.num, self.batch in enumerate(dl): \n",
    "            self.one_batch() # call one_batch method, self.batch will be set to the current batch\n",
    "        n = sum(self.ns)\n",
    "        print(f\"Epoch: {self.epoch+1}\", 'train' if self.model.training else 'valid', f\"Loss: {sum(self.losses).item()/n}\")\n",
    "    \n",
    "    def fit(self, n_epochs):\n",
    "        \"\"\"Very lightweight fit method, this is the highest level to train a model via the Learner object\"\"\"\n",
    "        self.losses, self.ns = [], []\n",
    "        self.model.to(def_device) # place model on appropriate device TODO: Allow this to be changed via fit calls if necessary\n",
    "        self.opt = self.opt_func(self.model.parameters(), lr=self.lr) # create optimizer\n",
    "        self.n_epochs = n_epochs\n",
    "        for self.epoch in range(n_epochs):\n",
    "            self.one_epoch(True) # training\n",
    "            self.one_epoch(False) # evaluation"
   ]
  },
  {
   "cell_type": "code",
   "execution_count": 53,
   "metadata": {},
   "outputs": [],
   "source": [
    "def conv(ni, nf, ks=3, stride=2, act=True):\n",
    "    res = nn.Conv2d(ni, nf, kernel_size=ks, stride=stride, padding=ks//2)\n",
    "    if act: res = nn.Sequential(res, nn.ReLU())\n",
    "    return res"
   ]
  },
  {
   "cell_type": "code",
   "execution_count": 344,
   "metadata": {},
   "outputs": [],
   "source": [
    "# Let's now create a simple cnn\n",
    "simple_cnn = nn.Sequential(\n",
    "    conv(20, 4),\n",
    "    conv(4, 8),\n",
    "    conv(8, 16),\n",
    "    conv(16, 16),\n",
    "    conv(16, 1, act=False),\n",
    "    nn.Flatten() # flatten our conv output to feed into a linear layer\n",
    ")"
   ]
  },
  {
   "cell_type": "code",
   "execution_count": 188,
   "metadata": {},
   "outputs": [],
   "source": [
    "learn = Learner(simple_cnn, dls, nn.MSELoss(), lr=0.01, opt_func=optim.Adagrad)"
   ]
  },
  {
   "cell_type": "code",
   "execution_count": 189,
   "metadata": {},
   "outputs": [
    {
     "name": "stdout",
     "output_type": "stream",
     "text": [
      "Epoch: 1 train Loss: 0.019070199839976612\n",
      "Epoch: 1 valid Loss: 0.02070929672544366\n",
      "Epoch: 2 train Loss: 0.014769159796779141\n",
      "Epoch: 2 valid Loss: 0.01622586850298951\n",
      "Epoch: 3 train Loss: 0.013073475955036537\n",
      "Epoch: 3 valid Loss: 0.014218547223156387\n",
      "Epoch: 4 train Loss: 0.012057661802390507\n",
      "Epoch: 4 valid Loss: 0.012864465481924431\n",
      "Epoch: 5 train Loss: 0.011258007740908625\n",
      "Epoch: 5 valid Loss: 0.01194646300595854\n",
      "Epoch: 6 train Loss: 0.010722716135083835\n",
      "Epoch: 6 valid Loss: 0.011252287471004933\n",
      "Epoch: 7 train Loss: 0.01021028927394322\n",
      "Epoch: 7 valid Loss: 0.010750221100864031\n",
      "Epoch: 8 train Loss: 0.009875190922736851\n",
      "Epoch: 8 valid Loss: 0.010286899591913286\n",
      "Epoch: 9 train Loss: 0.009530010500925603\n",
      "Epoch: 9 valid Loss: 0.009857325569098564\n",
      "Epoch: 10 train Loss: 0.009203324529549431\n",
      "Epoch: 10 valid Loss: 0.009492800883109996\n",
      "Epoch: 11 train Loss: 0.008914948289548386\n",
      "Epoch: 11 valid Loss: 0.009147920403737943\n",
      "Epoch: 12 train Loss: 0.008651393679840974\n",
      "Epoch: 12 valid Loss: 0.008998312258913378\n",
      "Epoch: 13 train Loss: 0.00854366588033286\n",
      "Epoch: 13 valid Loss: 0.008818104465903724\n",
      "Epoch: 14 train Loss: 0.008401127743389183\n",
      "Epoch: 14 valid Loss: 0.008631958566002197\n",
      "Epoch: 15 train Loss: 0.008242204251892527\n",
      "Epoch: 15 valid Loss: 0.00847900031330482\n",
      "Epoch: 16 train Loss: 0.008110648679286887\n",
      "Epoch: 16 valid Loss: 0.008327619392613965\n",
      "Epoch: 17 train Loss: 0.007990377679290972\n",
      "Epoch: 17 valid Loss: 0.008214530751637368\n",
      "Epoch: 18 train Loss: 0.007898739693286947\n",
      "Epoch: 18 valid Loss: 0.008068152084519005\n",
      "Epoch: 19 train Loss: 0.007776327567685093\n",
      "Epoch: 19 valid Loss: 0.008011360651554512\n",
      "Epoch: 20 train Loss: 0.0077306505216644655\n",
      "Epoch: 20 valid Loss: 0.007946184507795254\n"
     ]
    }
   ],
   "source": [
    "learn.fit(20)"
   ]
  },
  {
   "cell_type": "code",
   "execution_count": 192,
   "metadata": {},
   "outputs": [],
   "source": [
    "# save our model\n",
    "torch.save(simple_cnn.state_dict(), \"simple_cnn_tsla_3.pth\")"
   ]
  },
  {
   "cell_type": "code",
   "execution_count": 374,
   "metadata": {},
   "outputs": [
    {
     "data": {
      "text/plain": [
       "<All keys matched successfully>"
      ]
     },
     "execution_count": 374,
     "metadata": {},
     "output_type": "execute_result"
    }
   ],
   "source": [
    "# load our model\n",
    "simple_cnn.load_state_dict(torch.load(\"simple_cnn_tsla.pth\"))"
   ]
  },
  {
   "cell_type": "code",
   "execution_count": 375,
   "metadata": {},
   "outputs": [],
   "source": [
    "# let's run some predictions, we will plot the predictions and the actual values\n",
    "def plot_preds(preds, yb):\n",
    "    plt.plot(preds, label=\"preds\")\n",
    "    plt.plot(yb, label=\"actual\")\n",
    "    plt.legend()"
   ]
  },
  {
   "cell_type": "code",
   "execution_count": 376,
   "metadata": {},
   "outputs": [],
   "source": [
    "def predict_plot(xb, yb, model):\n",
    "    # move to device\n",
    "    xb, yb = to_device(xb), to_device(yb)\n",
    "    if isinstance(model, nn.Module): model = to_device(model)\n",
    "\n",
    "    # get predictions\n",
    "    preds = model(xb)\n",
    "\n",
    "    # plot predictions\n",
    "    with torch.no_grad(): plot_preds(preds.squeeze().detach().cpu().numpy(), yb.squeeze().detach().cpu().numpy())"
   ]
  },
  {
   "cell_type": "code",
   "execution_count": 377,
   "metadata": {},
   "outputs": [
    {
     "data": {
      "image/png": "[encoded data removed]",
      "text/plain": [
       "<Figure size 432x288 with 1 Axes>"
      ]
     },
     "metadata": {
      "needs_background": "light"
     },
     "output_type": "display_data"
    }
   ],
   "source": [
    "# plot predictions\n",
    "xb, yb = next(iter(dls.valid))\n",
    "predict_plot(xb, yb, simple_cnn)"
   ]
  },
  {
   "cell_type": "code",
   "execution_count": 378,
   "metadata": {},
   "outputs": [
    {
     "data": {
      "image/png": "[encoded data removed]",
      "text/plain": [
       "<Figure size 432x288 with 1 Axes>"
      ]
     },
     "metadata": {
      "needs_background": "light"
     },
     "output_type": "display_data"
    }
   ],
   "source": [
    "# plot predictions\n",
    "xb, yb = next(iter(dls.valid))\n",
    "predict_plot(xb, yb, simple_cnn)"
   ]
  },
  {
   "cell_type": "code",
   "execution_count": 193,
   "metadata": {},
   "outputs": [],
   "source": [
    "from functools import partial"
   ]
  },
  {
   "cell_type": "code",
   "execution_count": 291,
   "metadata": {},
   "outputs": [],
   "source": [
    "def load_model(path, cnn):\n",
    "    # load our model\n",
    "    cnn.load_state_dict(torch.load(path))\n",
    "    cnn.eval()\n",
    "    return cnn\n",
    "\n",
    "def ensemble(models, xb):\n",
    "    models = [to_device(m) for m in models]\n",
    "    outs = 0\n",
    "    for model in models:\n",
    "        outs += model(xb)\n",
    "    return outs/len(models)"
   ]
  },
  {
   "cell_type": "code",
   "execution_count": 388,
   "metadata": {},
   "outputs": [
    {
     "data": {
      "text/plain": [
       "<All keys matched successfully>"
      ]
     },
     "execution_count": 388,
     "metadata": {},
     "output_type": "execute_result"
    }
   ],
   "source": [
    "model1 = nn.Sequential(conv(20, 4), conv(4, 8), conv(8, 16), conv(16, 16),\n",
    "    conv(16, 1, act=False), nn.Flatten())\n",
    "model1.load_state_dict(torch.load(\"./model_weights/simple_cnn_tsla.pth\"))"
   ]
  },
  {
   "cell_type": "code",
   "execution_count": 380,
   "metadata": {},
   "outputs": [
    {
     "data": {
      "text/plain": [
       "<All keys matched successfully>"
      ]
     },
     "execution_count": 380,
     "metadata": {},
     "output_type": "execute_result"
    }
   ],
   "source": [
    "model2 = nn.Sequential(conv(20, 4), conv(4, 8), conv(8, 16), conv(16, 16),\n",
    "    conv(16, 1, act=False), nn.Flatten())\n",
    "model2.load_state_dict(torch.load(\"./model_weights/simple_cnn_tsla_2.pth\"))"
   ]
  },
  {
   "cell_type": "code",
   "execution_count": 381,
   "metadata": {},
   "outputs": [
    {
     "data": {
      "text/plain": [
       "<All keys matched successfully>"
      ]
     },
     "execution_count": 381,
     "metadata": {},
     "output_type": "execute_result"
    }
   ],
   "source": [
    "model3 = nn.Sequential(conv(20, 4), conv(4, 8), conv(8, 16), conv(16, 16),\n",
    "    conv(16, 1, act=False), nn.Flatten())\n",
    "model3.load_state_dict(torch.load(\"./model_weights/simple_cnn_tsla_3.pth\"))"
   ]
  },
  {
   "cell_type": "code",
   "execution_count": 400,
   "metadata": {},
   "outputs": [],
   "source": [
    "# plot predictions\n",
    "xb, yb = next(iter(dls.valid))"
   ]
  },
  {
   "cell_type": "code",
   "execution_count": 401,
   "metadata": {},
   "outputs": [
    {
     "data": {
      "image/png": "[encoded data removed]",
      "text/plain": [
       "<Figure size 432x288 with 1 Axes>"
      ]
     },
     "metadata": {
      "needs_background": "light"
     },
     "output_type": "display_data"
    }
   ],
   "source": [
    "# plot predictions\n",
    "xb, yb = next(iter(dls.valid))\n",
    "predict_plot(xb, yb, model1)"
   ]
  },
  {
   "cell_type": "code",
   "execution_count": 402,
   "metadata": {},
   "outputs": [
    {
     "data": {
      "image/png": "[encoded data removed]",
      "text/plain": [
       "<Figure size 432x288 with 1 Axes>"
      ]
     },
     "metadata": {
      "needs_background": "light"
     },
     "output_type": "display_data"
    }
   ],
   "source": [
    "# plot predictions\n",
    "predict_plot(xb, yb, model2)"
   ]
  },
  {
   "cell_type": "code",
   "execution_count": 403,
   "metadata": {},
   "outputs": [
    {
     "data": {
      "image/png": "[encoded data removed]",
      "text/plain": [
       "<Figure size 432x288 with 1 Axes>"
      ]
     },
     "metadata": {
      "needs_background": "light"
     },
     "output_type": "display_data"
    }
   ],
   "source": [
    "# plot predictions\n",
    "predict_plot(xb, yb, model3)"
   ]
  },
  {
   "cell_type": "code",
   "execution_count": 408,
   "metadata": {},
   "outputs": [
    {
     "data": {
      "image/png": "[encoded data removed]",
      "text/plain": [
       "<Figure size 432x288 with 1 Axes>"
      ]
     },
     "metadata": {
      "needs_background": "light"
     },
     "output_type": "display_data"
    }
   ],
   "source": [
    "predict_plot(xb, yb, model=partial(ensemble, [model1, model2, model3]))"
   ]
  },
  {
   "cell_type": "code",
   "execution_count": null,
   "metadata": {},
   "outputs": [],
   "source": []
  },
  {
   "cell_type": "code",
   "execution_count": null,
   "metadata": {},
   "outputs": [],
   "source": []
  }
 ],
 "metadata": {
  "kernelspec": {
   "display_name": "nlp",
   "language": "python",
   "name": "python3"
  },
  "language_info": {
   "codemirror_mode": {
    "name": "ipython",
    "version": 3
   },
   "file_extension": ".py",
   "mimetype": "text/x-python",
   "name": "python",
   "nbconvert_exporter": "python",
   "pygments_lexer": "ipython3",
   "version": "3.9.6"
  },
  "orig_nbformat": 4,
  "vscode": {
   "interpreter": {
    "hash": "0638b84c441d23f3bf1e5bbb68dbbbae5f508c99744b50e7a508082753ac4090"
   }
  }
 },
 "nbformat": 4,
 "nbformat_minor": 2
}
