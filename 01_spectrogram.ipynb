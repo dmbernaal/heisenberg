{
 "cells": [
  {
   "cell_type": "code",
   "execution_count": 307,
   "metadata": {},
   "outputs": [],
   "source": [
    "import torch\n",
    "import torch.nn as nn\n",
    "import torch.nn.functional as F\n",
    "import torch.optim as optim\n",
    "\n",
    "from torch.utils.data import Dataset, DataLoader\n",
    "\n",
    "import numpy as np\n",
    "import pandas as pd\n",
    "\n",
    "import os\n",
    "from dotenv import load_dotenv\n",
    "import requests\n",
    "from pathlib import Path\n",
    "\n",
    "from polygon import RESTClient\n",
    "\n",
    "import matplotlib.pyplot as plt\n",
    "import seaborn as sns\n",
    "\n",
    "import fastcore.all as fc"
   ]
  },
  {
   "cell_type": "code",
   "execution_count": 157,
   "metadata": {},
   "outputs": [],
   "source": [
    "# FOR THIS WE WILL USE THE POLYGON API\n",
    "load_dotenv()\n",
    "POLYGON_API_KEY = os.getenv('POLYGON_API_KEY')\n",
    "\n",
    "# load our polygon client\n",
    "polygon_client = RESTClient(api_key=POLYGON_API_KEY)"
   ]
  },
  {
   "cell_type": "code",
   "execution_count": 516,
   "metadata": {},
   "outputs": [],
   "source": [
    "# lets grab bar data for nvidia for the last 2 years\n",
    "# List Aggregates (Bars)\n",
    "ticker = \"TLSA\"\n",
    "bars = polygon_client.get_aggs(ticker=ticker, multiplier=1, timespan=\"day\", from_=\"2021-01-09\", to=\"2023-01-10\")"
   ]
  },
  {
   "cell_type": "code",
   "execution_count": null,
   "metadata": {},
   "outputs": [],
   "source": []
  },
  {
   "cell_type": "code",
   "execution_count": 517,
   "metadata": {},
   "outputs": [
    {
     "data": {
      "text/plain": [
       "Agg(open=3.05, high=3.25, low=3.02, close=3.13, volume=315930, vwap=3.1255, timestamp=1614142800000, transactions=1295, otc=None)"
      ]
     },
     "execution_count": 517,
     "metadata": {},
     "output_type": "execute_result"
    }
   ],
   "source": [
    "bars[0]"
   ]
  },
  {
   "cell_type": "code",
   "execution_count": 568,
   "metadata": {},
   "outputs": [],
   "source": [
    "def to_dict(bar):\n",
    "    return {\"timestamp\":bar.timestamp, \"open\": bar.open, \"high\": bar.high, \"low\": bar.low, \"close\": bar.close, \"volume\": bar.volume, \"vwap\": bar.vwap, \"transactions\": bar.transactions}"
   ]
  },
  {
   "cell_type": "code",
   "execution_count": 569,
   "metadata": {},
   "outputs": [],
   "source": [
    "# convert to a list of dicts\n",
    "dict_bars = [to_dict(bar) for bar in bars]"
   ]
  },
  {
   "cell_type": "code",
   "execution_count": 570,
   "metadata": {},
   "outputs": [],
   "source": [
    "# convert to a dataframe\n",
    "df = pd.DataFrame(dict_bars)"
   ]
  },
  {
   "cell_type": "code",
   "execution_count": 571,
   "metadata": {},
   "outputs": [],
   "source": [
    "# let's calculate the change in price from day to day\n",
    "df['change'] = df['close'].pct_change()"
   ]
  },
  {
   "cell_type": "code",
   "execution_count": 572,
   "metadata": {},
   "outputs": [
    {
     "data": {
      "text/html": [
       "<div>\n",
       "<style scoped>\n",
       "    .dataframe tbody tr th:only-of-type {\n",
       "        vertical-align: middle;\n",
       "    }\n",
       "\n",
       "    .dataframe tbody tr th {\n",
       "        vertical-align: top;\n",
       "    }\n",
       "\n",
       "    .dataframe thead th {\n",
       "        text-align: right;\n",
       "    }\n",
       "</style>\n",
       "<table border=\"1\" class=\"dataframe\">\n",
       "  <thead>\n",
       "    <tr style=\"text-align: right;\">\n",
       "      <th></th>\n",
       "      <th>timestamp</th>\n",
       "      <th>open</th>\n",
       "      <th>high</th>\n",
       "      <th>low</th>\n",
       "      <th>close</th>\n",
       "      <th>volume</th>\n",
       "      <th>vwap</th>\n",
       "      <th>transactions</th>\n",
       "      <th>change</th>\n",
       "    </tr>\n",
       "  </thead>\n",
       "  <tbody>\n",
       "    <tr>\n",
       "      <th>count</th>\n",
       "      <td>4.740000e+02</td>\n",
       "      <td>474.000000</td>\n",
       "      <td>474.000000</td>\n",
       "      <td>474.000000</td>\n",
       "      <td>474.000000</td>\n",
       "      <td>4.740000e+02</td>\n",
       "      <td>474.000000</td>\n",
       "      <td>474.000000</td>\n",
       "      <td>473.000000</td>\n",
       "    </tr>\n",
       "    <tr>\n",
       "      <th>mean</th>\n",
       "      <td>1.643598e+12</td>\n",
       "      <td>1.348544</td>\n",
       "      <td>1.400587</td>\n",
       "      <td>1.292586</td>\n",
       "      <td>1.344544</td>\n",
       "      <td>2.383408e+05</td>\n",
       "      <td>1.346201</td>\n",
       "      <td>764.860759</td>\n",
       "      <td>-0.002043</td>\n",
       "    </tr>\n",
       "    <tr>\n",
       "      <th>std</th>\n",
       "      <td>1.712125e+10</td>\n",
       "      <td>0.747593</td>\n",
       "      <td>0.768883</td>\n",
       "      <td>0.719970</td>\n",
       "      <td>0.739582</td>\n",
       "      <td>8.301077e+05</td>\n",
       "      <td>0.745417</td>\n",
       "      <td>2220.353189</td>\n",
       "      <td>0.053406</td>\n",
       "    </tr>\n",
       "    <tr>\n",
       "      <th>min</th>\n",
       "      <td>1.614143e+12</td>\n",
       "      <td>0.540000</td>\n",
       "      <td>0.575000</td>\n",
       "      <td>0.528700</td>\n",
       "      <td>0.550000</td>\n",
       "      <td>3.358000e+03</td>\n",
       "      <td>0.555300</td>\n",
       "      <td>37.000000</td>\n",
       "      <td>-0.337270</td>\n",
       "    </tr>\n",
       "    <tr>\n",
       "      <th>25%</th>\n",
       "      <td>1.628762e+12</td>\n",
       "      <td>0.746400</td>\n",
       "      <td>0.780000</td>\n",
       "      <td>0.712450</td>\n",
       "      <td>0.750250</td>\n",
       "      <td>5.505875e+04</td>\n",
       "      <td>0.748600</td>\n",
       "      <td>169.250000</td>\n",
       "      <td>-0.032419</td>\n",
       "    </tr>\n",
       "    <tr>\n",
       "      <th>50%</th>\n",
       "      <td>1.643648e+12</td>\n",
       "      <td>0.989950</td>\n",
       "      <td>1.040000</td>\n",
       "      <td>0.941300</td>\n",
       "      <td>0.985000</td>\n",
       "      <td>9.950700e+04</td>\n",
       "      <td>0.984700</td>\n",
       "      <td>371.000000</td>\n",
       "      <td>-0.002747</td>\n",
       "    </tr>\n",
       "    <tr>\n",
       "      <th>75%</th>\n",
       "      <td>1.658441e+12</td>\n",
       "      <td>1.865000</td>\n",
       "      <td>1.967500</td>\n",
       "      <td>1.822525</td>\n",
       "      <td>1.900000</td>\n",
       "      <td>2.051890e+05</td>\n",
       "      <td>1.904225</td>\n",
       "      <td>768.500000</td>\n",
       "      <td>0.025424</td>\n",
       "    </tr>\n",
       "    <tr>\n",
       "      <th>max</th>\n",
       "      <td>1.673327e+12</td>\n",
       "      <td>3.250000</td>\n",
       "      <td>3.350000</td>\n",
       "      <td>3.150000</td>\n",
       "      <td>3.240000</td>\n",
       "      <td>1.412027e+07</td>\n",
       "      <td>3.255100</td>\n",
       "      <td>40092.000000</td>\n",
       "      <td>0.304176</td>\n",
       "    </tr>\n",
       "  </tbody>\n",
       "</table>\n",
       "</div>"
      ],
      "text/plain": [
       "          timestamp        open        high         low       close  \\\n",
       "count  4.740000e+02  474.000000  474.000000  474.000000  474.000000   \n",
       "mean   1.643598e+12    1.348544    1.400587    1.292586    1.344544   \n",
       "std    1.712125e+10    0.747593    0.768883    0.719970    0.739582   \n",
       "min    1.614143e+12    0.540000    0.575000    0.528700    0.550000   \n",
       "25%    1.628762e+12    0.746400    0.780000    0.712450    0.750250   \n",
       "50%    1.643648e+12    0.989950    1.040000    0.941300    0.985000   \n",
       "75%    1.658441e+12    1.865000    1.967500    1.822525    1.900000   \n",
       "max    1.673327e+12    3.250000    3.350000    3.150000    3.240000   \n",
       "\n",
       "             volume        vwap  transactions      change  \n",
       "count  4.740000e+02  474.000000    474.000000  473.000000  \n",
       "mean   2.383408e+05    1.346201    764.860759   -0.002043  \n",
       "std    8.301077e+05    0.745417   2220.353189    0.053406  \n",
       "min    3.358000e+03    0.555300     37.000000   -0.337270  \n",
       "25%    5.505875e+04    0.748600    169.250000   -0.032419  \n",
       "50%    9.950700e+04    0.984700    371.000000   -0.002747  \n",
       "75%    2.051890e+05    1.904225    768.500000    0.025424  \n",
       "max    1.412027e+07    3.255100  40092.000000    0.304176  "
      ]
     },
     "execution_count": 572,
     "metadata": {},
     "output_type": "execute_result"
    }
   ],
   "source": [
    "df.describe()"
   ]
  },
  {
   "cell_type": "code",
   "execution_count": 573,
   "metadata": {},
   "outputs": [],
   "source": [
    "# set the timestamp to real datetime, as month, day, year\n",
    "df[\"timestamp\"] = pd.to_datetime(df[\"timestamp\"], unit=\"ms\")"
   ]
  },
  {
   "cell_type": "code",
   "execution_count": 599,
   "metadata": {},
   "outputs": [],
   "source": [
    "def zscore_normalize(data):\n",
    "    \"\"\"Apply z-score normalization to a column of data\"\"\"\n",
    "    mean = np.mean(data)\n",
    "    std = np.std(data)\n",
    "    normalized_data = (data - mean) / std\n",
    "    return normalized_data\n",
    "\n",
    "# minmax normalize function\n",
    "def minmax_normalize(data):\n",
    "    \"\"\"Apply minmax normalization to a column of data\"\"\"\n",
    "    minimum = np.min(data)\n",
    "    maximum = np.max(data)\n",
    "    normalized_data = (data - minimum) / (maximum - minimum)\n",
    "    return normalized_data"
   ]
  },
  {
   "cell_type": "code",
   "execution_count": 600,
   "metadata": {},
   "outputs": [],
   "source": [
    "def normalize_(normalization_fn, df, columns=['open', 'high', 'low', 'close', 'volume', 'vwap', 'transactions']):\n",
    "    \"\"\"Apply a normalization function to a dataframe\"\"\"\n",
    "    for column in columns: df[column] = normalization_fn(df[column])"
   ]
  },
  {
   "cell_type": "code",
   "execution_count": 601,
   "metadata": {},
   "outputs": [],
   "source": [
    "# let's normalize the data\n",
    "normalize_(zscore_normalize, df)"
   ]
  },
  {
   "cell_type": "code",
   "execution_count": 602,
   "metadata": {},
   "outputs": [
    {
     "data": {
      "text/html": [
       "<div>\n",
       "<style scoped>\n",
       "    .dataframe tbody tr th:only-of-type {\n",
       "        vertical-align: middle;\n",
       "    }\n",
       "\n",
       "    .dataframe tbody tr th {\n",
       "        vertical-align: top;\n",
       "    }\n",
       "\n",
       "    .dataframe thead th {\n",
       "        text-align: right;\n",
       "    }\n",
       "</style>\n",
       "<table border=\"1\" class=\"dataframe\">\n",
       "  <thead>\n",
       "    <tr style=\"text-align: right;\">\n",
       "      <th></th>\n",
       "      <th>open</th>\n",
       "      <th>high</th>\n",
       "      <th>low</th>\n",
       "      <th>close</th>\n",
       "      <th>volume</th>\n",
       "      <th>vwap</th>\n",
       "      <th>transactions</th>\n",
       "      <th>change</th>\n",
       "    </tr>\n",
       "  </thead>\n",
       "  <tbody>\n",
       "    <tr>\n",
       "      <th>count</th>\n",
       "      <td>4.740000e+02</td>\n",
       "      <td>4.740000e+02</td>\n",
       "      <td>4.740000e+02</td>\n",
       "      <td>4.740000e+02</td>\n",
       "      <td>4.740000e+02</td>\n",
       "      <td>4.740000e+02</td>\n",
       "      <td>474.000000</td>\n",
       "      <td>473.000000</td>\n",
       "    </tr>\n",
       "    <tr>\n",
       "      <th>mean</th>\n",
       "      <td>-2.398456e-16</td>\n",
       "      <td>5.996141e-17</td>\n",
       "      <td>2.398456e-16</td>\n",
       "      <td>5.996141e-17</td>\n",
       "      <td>-2.998071e-17</td>\n",
       "      <td>-5.996141e-17</td>\n",
       "      <td>0.000000</td>\n",
       "      <td>-0.002043</td>\n",
       "    </tr>\n",
       "    <tr>\n",
       "      <th>std</th>\n",
       "      <td>1.001057e+00</td>\n",
       "      <td>1.001057e+00</td>\n",
       "      <td>1.001057e+00</td>\n",
       "      <td>1.001057e+00</td>\n",
       "      <td>1.001057e+00</td>\n",
       "      <td>1.001057e+00</td>\n",
       "      <td>1.001057</td>\n",
       "      <td>0.053406</td>\n",
       "    </tr>\n",
       "    <tr>\n",
       "      <th>min</th>\n",
       "      <td>-1.082672e+00</td>\n",
       "      <td>-1.074882e+00</td>\n",
       "      <td>-1.062118e+00</td>\n",
       "      <td>-1.075451e+00</td>\n",
       "      <td>-2.833742e-01</td>\n",
       "      <td>-1.062139e+00</td>\n",
       "      <td>-0.328159</td>\n",
       "      <td>-0.337270</td>\n",
       "    </tr>\n",
       "    <tr>\n",
       "      <th>25%</th>\n",
       "      <td>-8.062943e-01</td>\n",
       "      <td>-8.079802e-01</td>\n",
       "      <td>-8.066295e-01</td>\n",
       "      <td>-8.044035e-01</td>\n",
       "      <td>-2.210264e-01</td>\n",
       "      <td>-8.025471e-01</td>\n",
       "      <td>-0.268534</td>\n",
       "      <td>-0.032419</td>\n",
       "    </tr>\n",
       "    <tr>\n",
       "      <th>50%</th>\n",
       "      <td>-4.801714e-01</td>\n",
       "      <td>-4.694701e-01</td>\n",
       "      <td>-4.884333e-01</td>\n",
       "      <td>-4.866590e-01</td>\n",
       "      <td>-1.674247e-01</td>\n",
       "      <td>-4.854771e-01</td>\n",
       "      <td>-0.177574</td>\n",
       "      <td>-0.002747</td>\n",
       "    </tr>\n",
       "    <tr>\n",
       "      <th>75%</th>\n",
       "      <td>6.915548e-01</td>\n",
       "      <td>7.380994e-01</td>\n",
       "      <td>7.368340e-01</td>\n",
       "      <td>7.518338e-01</td>\n",
       "      <td>-3.997895e-02</td>\n",
       "      <td>7.493971e-01</td>\n",
       "      <td>0.001641</td>\n",
       "      <td>0.025424</td>\n",
       "    </tr>\n",
       "    <tr>\n",
       "      <th>max</th>\n",
       "      <td>2.546124e+00</td>\n",
       "      <td>2.538062e+00</td>\n",
       "      <td>2.582573e+00</td>\n",
       "      <td>2.565583e+00</td>\n",
       "      <td>1.674072e+01</td>\n",
       "      <td>2.563552e+00</td>\n",
       "      <td>17.730823</td>\n",
       "      <td>0.304176</td>\n",
       "    </tr>\n",
       "  </tbody>\n",
       "</table>\n",
       "</div>"
      ],
      "text/plain": [
       "               open          high           low         close        volume  \\\n",
       "count  4.740000e+02  4.740000e+02  4.740000e+02  4.740000e+02  4.740000e+02   \n",
       "mean  -2.398456e-16  5.996141e-17  2.398456e-16  5.996141e-17 -2.998071e-17   \n",
       "std    1.001057e+00  1.001057e+00  1.001057e+00  1.001057e+00  1.001057e+00   \n",
       "min   -1.082672e+00 -1.074882e+00 -1.062118e+00 -1.075451e+00 -2.833742e-01   \n",
       "25%   -8.062943e-01 -8.079802e-01 -8.066295e-01 -8.044035e-01 -2.210264e-01   \n",
       "50%   -4.801714e-01 -4.694701e-01 -4.884333e-01 -4.866590e-01 -1.674247e-01   \n",
       "75%    6.915548e-01  7.380994e-01  7.368340e-01  7.518338e-01 -3.997895e-02   \n",
       "max    2.546124e+00  2.538062e+00  2.582573e+00  2.565583e+00  1.674072e+01   \n",
       "\n",
       "               vwap  transactions      change  \n",
       "count  4.740000e+02    474.000000  473.000000  \n",
       "mean  -5.996141e-17      0.000000   -0.002043  \n",
       "std    1.001057e+00      1.001057    0.053406  \n",
       "min   -1.062139e+00     -0.328159   -0.337270  \n",
       "25%   -8.025471e-01     -0.268534   -0.032419  \n",
       "50%   -4.854771e-01     -0.177574   -0.002747  \n",
       "75%    7.493971e-01      0.001641    0.025424  \n",
       "max    2.563552e+00     17.730823    0.304176  "
      ]
     },
     "execution_count": 602,
     "metadata": {},
     "output_type": "execute_result"
    }
   ],
   "source": [
    "df.describe()"
   ]
  },
  {
   "cell_type": "code",
   "execution_count": 603,
   "metadata": {},
   "outputs": [],
   "source": [
    "# let's create a dataset with 4 week windows\n",
    "def create_window(df, n=0, window_size=28, columns=['open', 'high', 'low', 'close', 'volume', 'vwap', 'transactions']):\n",
    "    window_data = df.iloc[n:window_size+n]\n",
    "    return {\"data\": window_data[columns].values, \"target\": window_data[\"change\"].values[-1], \"timestamp\": window_data[\"timestamp\"].values[-1]}"
   ]
  },
  {
   "cell_type": "code",
   "execution_count": 604,
   "metadata": {},
   "outputs": [
    {
     "data": {
      "text/plain": [
       "446"
      ]
     },
     "execution_count": 604,
     "metadata": {},
     "output_type": "execute_result"
    }
   ],
   "source": [
    "# create windows sliding with stride of 1\n",
    "windows = [create_window(df, n=n) for n in range(len(df)-28)]\n",
    "len(windows)"
   ]
  },
  {
   "cell_type": "code",
   "execution_count": 605,
   "metadata": {},
   "outputs": [],
   "source": [
    "# let's split our windows to train and test\n",
    "train_windows = windows[:int(len(windows)*0.8)]\n",
    "test_windows = windows[int(len(windows)*0.8):]"
   ]
  },
  {
   "cell_type": "code",
   "execution_count": 606,
   "metadata": {},
   "outputs": [],
   "source": [
    "# function to create a spectrogram\n",
    "def create_spectrogram(window):\n",
    "    # create a spectrogram\n",
    "    spectrogram = np.abs(np.fft.fft(window, axis=0))\n",
    "    # take the top half of the spectrogram\n",
    "    spectrogram = spectrogram[:spectrogram.shape[0]//2]\n",
    "    return spectrogram"
   ]
  },
  {
   "cell_type": "code",
   "execution_count": 607,
   "metadata": {},
   "outputs": [],
   "source": [
    "class TabularStockDataset(Dataset):\n",
    "    def __init__(self, windows):\n",
    "        self.X = [window[\"data\"] for window in windows]\n",
    "        self.y = [window[\"target\"] for window in windows]\n",
    "\n",
    "    def __len__(self): return len(self.y)\n",
    "    def __getitem__(self, idx):\n",
    "        return torch.tensor(self.X[idx], dtype=torch.float), torch.tensor(self.y[idx], dtype=torch.float)"
   ]
  },
  {
   "cell_type": "code",
   "execution_count": 582,
   "metadata": {},
   "outputs": [],
   "source": [
    "# lets create a dataset class\n",
    "class CNNStockDataset(Dataset):\n",
    "    def __init__(self, windows): \n",
    "        # convert to spectrogram\n",
    "        self.X = [create_spectrogram(window[\"data\"]) for window in windows]\n",
    "        self.y = [window[\"target\"] for window in windows]\n",
    "    def __len__(self): return len(self.y)\n",
    "    def __getitem__(self, idx):\n",
    "        return torch.tensor(self.X[idx], dtype=torch.float).unsqueeze(0), torch.tensor(self.y[idx], dtype=torch.float).unsqueeze(0)"
   ]
  },
  {
   "cell_type": "code",
   "execution_count": 608,
   "metadata": {},
   "outputs": [],
   "source": [
    "from dataclasses import dataclass"
   ]
  },
  {
   "cell_type": "code",
   "execution_count": 609,
   "metadata": {},
   "outputs": [],
   "source": [
    "@dataclass\n",
    "class Dls:\n",
    "    train: DataLoader\n",
    "    valid: DataLoader"
   ]
  },
  {
   "cell_type": "code",
   "execution_count": 610,
   "metadata": {},
   "outputs": [],
   "source": [
    "# # create our datasets\n",
    "# dls = Dls(\n",
    "#     train=DataLoader(CNNStockDataset(train_windows), batch_size=32, shuffle=True),\n",
    "#     valid=DataLoader(CNNStockDataset(test_windows), batch_size=32, shuffle=True)\n",
    "# )\n",
    "# create our datasets\n",
    "dls = Dls(\n",
    "    train=DataLoader(TabularStockDataset(train_windows), batch_size=32, shuffle=True),\n",
    "    valid=DataLoader(TabularStockDataset(test_windows), batch_size=32, shuffle=True)\n",
    ")"
   ]
  },
  {
   "cell_type": "code",
   "execution_count": 611,
   "metadata": {},
   "outputs": [],
   "source": [
    "xb, yb = next(iter(dls.train))"
   ]
  },
  {
   "cell_type": "code",
   "execution_count": 612,
   "metadata": {},
   "outputs": [
    {
     "data": {
      "text/plain": [
       "(torch.Size([32, 28, 7]), torch.Size([32]))"
      ]
     },
     "execution_count": 612,
     "metadata": {},
     "output_type": "execute_result"
    }
   ],
   "source": [
    "xb.shape, yb.shape"
   ]
  },
  {
   "cell_type": "code",
   "execution_count": 613,
   "metadata": {},
   "outputs": [],
   "source": [
    "def baselayer(ni, nf, batch_norm=True, bn_first=False, act_fn=nn.ReLU):\n",
    "    layers = [nn.Linear(ni, nf, bias=not batch_norm)]\n",
    "    if batch_norm and bn_first: layers.append(nn.BatchNorm1d(nf))\n",
    "    if act_fn is not None: layers.append(act_fn())\n",
    "    if batch_norm and not bn_first: layers.append(nn.BatchNorm1d(nf))\n",
    "    return layers"
   ]
  },
  {
   "cell_type": "code",
   "execution_count": null,
   "metadata": {},
   "outputs": [],
   "source": [
    "class SimpleTabularNet:\n",
    "    def __init__(self, nfs, batch_norm=True, bn_first=False, act_fn=nn.ReLU):\n",
    "        self.layers = []\n",
    "        for ni, nf in zip(nfs[:-1], nfs[1:]):\n",
    "            self.layers += baselayer(ni, nf, batch_norm, bn_first, act_fn = False if nf == nfs[-1] else act_fn)\n",
    "        self.layers = nn.Sequential(*self.layers)"
   ]
  },
  {
   "cell_type": "code",
   "execution_count": 588,
   "metadata": {},
   "outputs": [],
   "source": [
    "def_device = \"mps\" if torch.backends.mps.is_available() else 'cuda' if torch.cuda.is_available() else 'cpu'\n",
    "\n",
    "def to_device(data, device=def_device):\n",
    "    \"\"\"Move tensor(s) to chosen device\"\"\"\n",
    "    if isinstance(data, (list,tuple)): return [to_device(x, device) for x in data]\n",
    "    return data.to(device, non_blocking=True)"
   ]
  },
  {
   "cell_type": "code",
   "execution_count": 589,
   "metadata": {},
   "outputs": [],
   "source": [
    "class Learner:\n",
    "    \"\"\"This is our main class that will be responsible to experimenting and training various models. It serves the purpose of being a vehicle to experiment quickly\"\"\"\n",
    "    def __init__(self, model, dls, loss_func, lr, opt_func=optim.SGD):\n",
    "        \"\"\"\n",
    "        model: <PyTorch Model> the model we are going to train\n",
    "        dls: <Pytorch DataLoader> the dataloaders we are going to use\n",
    "        loss_func: <Callable> the loss function we are going to use\n",
    "        lr: <float> the learning rate we are going to use\n",
    "        opt_func: <PyTorch optimizer (can be custom)> the optimizer we are going to use\n",
    "        \"\"\"\n",
    "        fc.store_attr() # easy method to store all attributes, prevents mistakes\n",
    "\n",
    "    def one_batch(self):\n",
    "        \"\"\"This method is responsible for one batch of training/evaluation\"\"\"\n",
    "        self.xb, self.yb = to_device(self.batch) # move batch to device\n",
    "        self.preds = self.model(self.xb) # get predictions\n",
    "        self.loss = self.loss_func(self.preds, self.yb) # calculate loss\n",
    "        if self.model.training:\n",
    "            self.loss.backward() # calculate gradients\n",
    "            self.opt.step() # update weights\n",
    "            self.opt.zero_grad() # zero gradients\n",
    "        with torch.no_grad(): self.calc_stats()\n",
    "\n",
    "    def calc_stats(self):\n",
    "        \"\"\"This method is responsible for calculating statistics\"\"\"\n",
    "        n = len(self.xb)\n",
    "        self.losses.append(self.loss*n)\n",
    "        self.ns.append(n)\n",
    "    \n",
    "    def one_epoch(self, train):\n",
    "        self.model.training = train # set model to training mode or evaluation mode\n",
    "        dl = self.dls.train if train else self.dls.valid # get the correct dataloader\n",
    "        for self.num, self.batch in enumerate(dl): \n",
    "            self.one_batch() # call one_batch method, self.batch will be set to the current batch\n",
    "        n = sum(self.ns)\n",
    "        print(f\"Epoch: {self.epoch+1}\", 'train' if self.model.training else 'valid', f\"Loss: {sum(self.losses).item()/n}\")\n",
    "    \n",
    "    def fit(self, n_epochs):\n",
    "        \"\"\"Very lightweight fit method, this is the highest level to train a model via the Learner object\"\"\"\n",
    "        self.losses, self.ns = [], []\n",
    "        self.model.to(def_device) # place model on appropriate device TODO: Allow this to be changed via fit calls if necessary\n",
    "        self.opt = self.opt_func(self.model.parameters(), lr=self.lr) # create optimizer\n",
    "        self.n_epochs = n_epochs\n",
    "        for self.epoch in range(n_epochs):\n",
    "            self.one_epoch(True) # training\n",
    "            self.one_epoch(False) # evaluation"
   ]
  },
  {
   "cell_type": "code",
   "execution_count": 593,
   "metadata": {},
   "outputs": [],
   "source": [
    "#export\n",
    "# Creating conv function to return a customized conv layer\n",
    "def conv(ni, nf, ks=3, stride=2, act=True):\n",
    "    res = nn.Conv2d(ni, nf, kernel_size=ks, stride=stride, padding=ks//2)\n",
    "    if act: res = nn.Sequential(res, nn.ReLU())\n",
    "    return res\n",
    "\n",
    "# Let's now create a simple cnn\n",
    "simple_cnn = nn.Sequential(\n",
    "    conv(1, 4),\n",
    "    conv(4, 8),\n",
    "    conv(8, 16),\n",
    "    conv(16, 16),\n",
    "    conv(16, 1, act=False),\n",
    "    nn.Flatten() # flatten our conv output to feed into a linear layer\n",
    ")"
   ]
  },
  {
   "cell_type": "code",
   "execution_count": 594,
   "metadata": {},
   "outputs": [],
   "source": [
    "learn = Learner(simple_cnn, dls, nn.MSELoss(), lr=0.01)"
   ]
  },
  {
   "cell_type": "code",
   "execution_count": 595,
   "metadata": {},
   "outputs": [
    {
     "name": "stdout",
     "output_type": "stream",
     "text": [
      "Epoch: 1 train Loss: 0.0034969325145978608\n",
      "Epoch: 1 valid Loss: 0.0035414110384714443\n",
      "Epoch: 2 train Loss: 0.0034198939354342416\n",
      "Epoch: 2 valid Loss: 0.003426036225306079\n",
      "Epoch: 3 train Loss: 0.003334149718284607\n",
      "Epoch: 3 valid Loss: 0.0033344712848976943\n",
      "Epoch: 4 train Loss: 0.0032618620038173275\n",
      "Epoch: 4 valid Loss: 0.003261605720348957\n",
      "Epoch: 5 train Loss: 0.003211300841001707\n",
      "Epoch: 5 valid Loss: 0.0032110083798121978\n",
      "Epoch: 6 train Loss: 0.0031724462929568547\n",
      "Epoch: 6 valid Loss: 0.0031724115123663247\n",
      "Epoch: 7 train Loss: 0.003142543707170713\n",
      "Epoch: 7 valid Loss: 0.003143065866180752\n",
      "Epoch: 8 train Loss: 0.003119061773299074\n",
      "Epoch: 8 valid Loss: 0.0031195772068382914\n",
      "Epoch: 9 train Loss: 0.0030996165144334146\n",
      "Epoch: 9 valid Loss: 0.0031002730829061175\n",
      "Epoch: 10 train Loss: 0.0030837203054188047\n",
      "Epoch: 10 valid Loss: 0.0030845550143665263\n"
     ]
    }
   ],
   "source": [
    "learn.fit(10)"
   ]
  },
  {
   "cell_type": "code",
   "execution_count": 552,
   "metadata": {},
   "outputs": [],
   "source": [
    "# save our model\n",
    "torch.save(simple_cnn.state_dict(), \"simple_cnn_tsla.pth\")"
   ]
  },
  {
   "cell_type": "code",
   "execution_count": 555,
   "metadata": {},
   "outputs": [
    {
     "data": {
      "text/plain": [
       "<All keys matched successfully>"
      ]
     },
     "execution_count": 555,
     "metadata": {},
     "output_type": "execute_result"
    }
   ],
   "source": [
    "# reload our model\n",
    "simple_cnn.load_state_dict(torch.load(\"simple_cnn_tsla.pth\"))"
   ]
  },
  {
   "cell_type": "code",
   "execution_count": 556,
   "metadata": {},
   "outputs": [
    {
     "name": "stdout",
     "output_type": "stream",
     "text": [
      "Epoch: 1 train Loss: 0.002908156828933887\n",
      "Epoch: 1 valid Loss: 0.00295075974656862\n",
      "Epoch: 2 train Loss: 0.002931292812128614\n",
      "Epoch: 2 valid Loss: 0.0029500958096286105\n",
      "Epoch: 3 train Loss: 0.0029372085745518026\n",
      "Epoch: 3 valid Loss: 0.0029492804109604726\n",
      "Epoch: 4 train Loss: 0.002939700517350414\n",
      "Epoch: 4 valid Loss: 0.0029485704118360854\n",
      "Epoch: 5 train Loss: 0.002940857521841459\n",
      "Epoch: 5 valid Loss: 0.002947878516842966\n",
      "Epoch: 6 train Loss: 0.002864490805535195\n",
      "Epoch: 6 valid Loss: 0.002872887213668481\n",
      "Epoch: 7 train Loss: 0.002876119437507086\n",
      "Epoch: 7 valid Loss: 0.002882964178814787\n",
      "Epoch: 8 train Loss: 0.0028846720431713346\n",
      "Epoch: 8 valid Loss: 0.00289043316392086\n",
      "Epoch: 9 train Loss: 0.00289121291445422\n",
      "Epoch: 9 valid Loss: 0.0028961670594721454\n",
      "Epoch: 10 train Loss: 0.002896304970747819\n",
      "Epoch: 10 valid Loss: 0.002900646620267175\n"
     ]
    }
   ],
   "source": [
    "# keep training with lower learning rate\n",
    "learn.lr = 0.001\n",
    "learn.fit(10)"
   ]
  },
  {
   "cell_type": "code",
   "execution_count": 557,
   "metadata": {},
   "outputs": [],
   "source": [
    "# save our model\n",
    "torch.save(simple_cnn.state_dict(), \"simple_cnn_tsla_2.pth\")"
   ]
  },
  {
   "cell_type": "code",
   "execution_count": 558,
   "metadata": {},
   "outputs": [
    {
     "data": {
      "text/plain": [
       "<All keys matched successfully>"
      ]
     },
     "execution_count": 558,
     "metadata": {},
     "output_type": "execute_result"
    }
   ],
   "source": [
    "# load our model\n",
    "simple_cnn.load_state_dict(torch.load(\"simple_cnn_tsla_2.pth\"))"
   ]
  },
  {
   "cell_type": "code",
   "execution_count": 559,
   "metadata": {},
   "outputs": [],
   "source": [
    "# let's run some predictions, we will plot the predictions and the actual values\n",
    "def plot_preds(preds, yb):\n",
    "    plt.plot(preds, label=\"preds\")\n",
    "    plt.plot(yb, label=\"actual\")\n",
    "    plt.legend()"
   ]
  },
  {
   "cell_type": "code",
   "execution_count": 560,
   "metadata": {},
   "outputs": [],
   "source": [
    "def predict_plot(xb, yb, model):\n",
    "    # move to device\n",
    "    xb, yb = to_device(xb), to_device(yb)\n",
    "    model = to_device(model)\n",
    "\n",
    "    # get predictions\n",
    "    preds = model(xb)\n",
    "\n",
    "    # plot predictions\n",
    "    with torch.no_grad(): plot_preds(preds.squeeze().detach().cpu().numpy(), yb.squeeze().detach().cpu().numpy())"
   ]
  },
  {
   "cell_type": "code",
   "execution_count": 596,
   "metadata": {},
   "outputs": [
    {
     "data": {
      "image/png": "[encoded data removed]",
      "text/plain": [
       "<Figure size 432x288 with 1 Axes>"
      ]
     },
     "metadata": {
      "needs_background": "light"
     },
     "output_type": "display_data"
    }
   ],
   "source": [
    "# plot predictions\n",
    "xb, yb = next(iter(dls.valid))\n",
    "predict_plot(xb, yb, simple_cnn)"
   ]
  },
  {
   "cell_type": "code",
   "execution_count": 597,
   "metadata": {},
   "outputs": [
    {
     "data": {
      "image/png": "[encoded data removed]",
      "text/plain": [
       "<Figure size 432x288 with 1 Axes>"
      ]
     },
     "metadata": {
      "needs_background": "light"
     },
     "output_type": "display_data"
    }
   ],
   "source": [
    "# plot predictions\n",
    "xb, yb = next(iter(dls.valid))\n",
    "predict_plot(xb, yb, simple_cnn)"
   ]
  },
  {
   "cell_type": "code",
   "execution_count": 598,
   "metadata": {},
   "outputs": [
    {
     "data": {
      "image/png": "[encoded data removed]",
      "text/plain": [
       "<Figure size 432x288 with 1 Axes>"
      ]
     },
     "metadata": {
      "needs_background": "light"
     },
     "output_type": "display_data"
    }
   ],
   "source": [
    "# plot predictions\n",
    "xb, yb = next(iter(dls.valid))\n",
    "predict_plot(xb, yb, simple_cnn)"
   ]
  },
  {
   "cell_type": "code",
   "execution_count": null,
   "metadata": {},
   "outputs": [],
   "source": []
  },
  {
   "cell_type": "code",
   "execution_count": null,
   "metadata": {},
   "outputs": [],
   "source": []
  },
  {
   "cell_type": "code",
   "execution_count": null,
   "metadata": {},
   "outputs": [],
   "source": []
  }
 ],
 "metadata": {
  "kernelspec": {
   "display_name": "nlp",
   "language": "python",
   "name": "python3"
  },
  "language_info": {
   "codemirror_mode": {
    "name": "ipython",
    "version": 3
   },
   "file_extension": ".py",
   "mimetype": "text/x-python",
   "name": "python",
   "nbconvert_exporter": "python",
   "pygments_lexer": "ipython3",
   "version": "3.9.6"
  },
  "orig_nbformat": 4,
  "vscode": {
   "interpreter": {
    "hash": "0638b84c441d23f3bf1e5bbb68dbbbae5f508c99744b50e7a508082753ac4090"
   }
  }
 },
 "nbformat": 4,
 "nbformat_minor": 2
}
