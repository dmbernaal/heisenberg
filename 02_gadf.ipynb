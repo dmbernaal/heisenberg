{
 "cells": [
  {
   "attachments": {},
   "cell_type": "markdown",
   "metadata": {},
   "source": [
    "# GADF\n",
    "In this notebook we will experiment with GADF\n",
    "\n",
    "## Dependencies\n",
    "pyts\n",
    "[https://pypi.org/project/TA-Lib/](\"https://pypi.org/project/pyts/\")\n",
    "\n",
    "ta\n",
    "[https://github.com/bukosabino/ta](\"https://github.com/bukosabino/ta\")"
   ]
  },
  {
   "cell_type": "code",
   "execution_count": 52,
   "metadata": {},
   "outputs": [],
   "source": [
    "import pandas as pd\n",
    "import numpy as np\n",
    "\n",
    "import requests\n",
    "\n",
    "from dotenv import load_dotenv\n",
    "import os\n",
    "\n",
    "import torch\n",
    "import torch.nn as nn\n",
    "import torch.nn.functional as F\n",
    "import torch.optim as optim\n",
    "from torch.utils.data import Dataset, DataLoader\n",
    "\n",
    "import matplotlib as mpl\n",
    "import matplotlib.pyplot as plt\n",
    "import seaborn as sns\n",
    "\n",
    "import fastcore.all as fc\n",
    "\n",
    "from ta import add_all_ta_features\n",
    "from ta.utils import dropna\n",
    "\n",
    "from sklearn.preprocessing import RobustScaler, MinMaxScaler\n",
    "\n",
    "from pyts.image import GramianAngularField\n",
    "\n",
    "# data util functions\n",
    "from data import get_data, p2df, zscore_normalize, minmax_normalize, normalize_, create_window"
   ]
  },
  {
   "cell_type": "code",
   "execution_count": 53,
   "metadata": {},
   "outputs": [],
   "source": [
    "# FOR THIS WE WILL USE THE POLYGON API\n",
    "load_dotenv()\n",
    "POLYGON_API_KEY = os.getenv('POLYGON_API_KEY')"
   ]
  },
  {
   "cell_type": "code",
   "execution_count": 403,
   "metadata": {},
   "outputs": [],
   "source": [
    "# # load some data, we will use TSLA\n",
    "data = get_data(POLYGON_API_KEY, ticker=\"SPY\", multiplier=30, timespan=\"minute\", from_=\"2022-01-09\", to=\"2023-02-10\", limit=50000)"
   ]
  },
  {
   "cell_type": "code",
   "execution_count": 55,
   "metadata": {},
   "outputs": [],
   "source": [
    "# def grab_btc(path):\n",
    "#     # grabbing 2017 btc min data\n",
    "#     df = pd.read_csv(path)[['date', 'open', 'high', 'low', 'close', 'Volume BTC']]\n",
    "\n",
    "#     # rename Volumne BTC to volume\n",
    "#     df.rename(columns={'Volume BTC': 'volume'}, inplace=True)\n",
    "\n",
    "#     # flip the dataset so that it is in chronological order\n",
    "#     df = df.iloc[::-1].reset_index(drop=True)\n",
    "#     return df"
   ]
  },
  {
   "cell_type": "code",
   "execution_count": 405,
   "metadata": {},
   "outputs": [],
   "source": [
    "# df1 = grab_btc('data/BTC-2017min.csv')\n",
    "# df2 = grab_btc('data/BTC-2018min.csv')\n",
    "# df3 = grab_btc('data/BTC-2019min.csv')\n",
    "# df4 = grab_btc('data/BTC-2020min.csv')\n",
    "# df5 = grab_btc('data/BTC-2021min.csv')\n",
    "\n",
    "# df = pd.concat([df1, df2, df3, df4, df5], axis=0).reset_index(drop=True)"
   ]
  },
  {
   "cell_type": "code",
   "execution_count": 406,
   "metadata": {},
   "outputs": [],
   "source": [
    "# turn our data into a dataframe\n",
    "df = p2df(data, convert_timestamp=True) # convert timestamp to datetime"
   ]
  },
  {
   "cell_type": "code",
   "execution_count": 407,
   "metadata": {},
   "outputs": [],
   "source": [
    "# # convert date to datetime\n",
    "# df['date'] = pd.to_datetime(df['data'], unit='ms')"
   ]
  },
  {
   "cell_type": "code",
   "execution_count": 408,
   "metadata": {},
   "outputs": [],
   "source": [
    "# # # with our 1min time interval data, we will resample to 3hr intervals\n",
    "# # df = df.resample('3H', on='date').agg({'open': 'first', 'high': 'max', 'low': 'min', 'close': 'last', 'volume': 'sum'})\n",
    "\n",
    "# # with our 1min time interval data, we will resample to 1D intervals\n",
    "# df = df.resample('1D', on='date').agg({'open': 'first', 'high': 'max', 'low': 'min', 'close': 'last', 'volume': 'sum'})"
   ]
  },
  {
   "cell_type": "code",
   "execution_count": 409,
   "metadata": {},
   "outputs": [],
   "source": [
    "# # lets grab the first 3 months of 2017\n",
    "# start_date = '2017-01-01'\n",
    "# end_date = '2018-01-01'\n",
    "# df= df.loc[start_date:end_date]"
   ]
  },
  {
   "cell_type": "code",
   "execution_count": 410,
   "metadata": {},
   "outputs": [
    {
     "data": {
      "text/html": [
       "<div>\n",
       "<style scoped>\n",
       "    .dataframe tbody tr th:only-of-type {\n",
       "        vertical-align: middle;\n",
       "    }\n",
       "\n",
       "    .dataframe tbody tr th {\n",
       "        vertical-align: top;\n",
       "    }\n",
       "\n",
       "    .dataframe thead th {\n",
       "        text-align: right;\n",
       "    }\n",
       "</style>\n",
       "<table border=\"1\" class=\"dataframe\">\n",
       "  <thead>\n",
       "    <tr style=\"text-align: right;\">\n",
       "      <th></th>\n",
       "      <th>open</th>\n",
       "      <th>high</th>\n",
       "      <th>low</th>\n",
       "      <th>close</th>\n",
       "      <th>volume</th>\n",
       "    </tr>\n",
       "  </thead>\n",
       "  <tbody>\n",
       "    <tr>\n",
       "      <th>0</th>\n",
       "      <td>466.50</td>\n",
       "      <td>466.68</td>\n",
       "      <td>465.85</td>\n",
       "      <td>466.68</td>\n",
       "      <td>15308.0</td>\n",
       "    </tr>\n",
       "    <tr>\n",
       "      <th>1</th>\n",
       "      <td>466.74</td>\n",
       "      <td>466.86</td>\n",
       "      <td>466.22</td>\n",
       "      <td>466.22</td>\n",
       "      <td>5440.0</td>\n",
       "    </tr>\n",
       "    <tr>\n",
       "      <th>2</th>\n",
       "      <td>466.00</td>\n",
       "      <td>466.80</td>\n",
       "      <td>465.95</td>\n",
       "      <td>466.20</td>\n",
       "      <td>7542.0</td>\n",
       "    </tr>\n",
       "    <tr>\n",
       "      <th>3</th>\n",
       "      <td>466.24</td>\n",
       "      <td>466.34</td>\n",
       "      <td>465.72</td>\n",
       "      <td>465.82</td>\n",
       "      <td>5621.0</td>\n",
       "    </tr>\n",
       "    <tr>\n",
       "      <th>4</th>\n",
       "      <td>465.95</td>\n",
       "      <td>465.95</td>\n",
       "      <td>465.33</td>\n",
       "      <td>465.33</td>\n",
       "      <td>5382.0</td>\n",
       "    </tr>\n",
       "  </tbody>\n",
       "</table>\n",
       "</div>"
      ],
      "text/plain": [
       "     open    high     low   close   volume\n",
       "0  466.50  466.68  465.85  466.68  15308.0\n",
       "1  466.74  466.86  466.22  466.22   5440.0\n",
       "2  466.00  466.80  465.95  466.20   7542.0\n",
       "3  466.24  466.34  465.72  465.82   5621.0\n",
       "4  465.95  465.95  465.33  465.33   5382.0"
      ]
     },
     "execution_count": 410,
     "metadata": {},
     "output_type": "execute_result"
    }
   ],
   "source": [
    "# for our GADF we will first add a lot of TA features\n",
    "# the only features we are interested in are open, high, low, close, volume so lets clear the rest\n",
    "df = df[['open', 'high', 'low', 'close', 'volume']]\n",
    "df.head()"
   ]
  },
  {
   "cell_type": "code",
   "execution_count": 411,
   "metadata": {},
   "outputs": [],
   "source": [
    "# lets drop any na values, there shouldnt be any with polgyon data\n",
    "df = dropna(df)"
   ]
  },
  {
   "cell_type": "code",
   "execution_count": 412,
   "metadata": {},
   "outputs": [
    {
     "name": "stderr",
     "output_type": "stream",
     "text": [
      "/opt/homebrew/Caskroom/miniforge/base/envs/nlp/lib/python3.9/site-packages/ta/trend.py:780: RuntimeWarning: invalid value encountered in double_scalars\n",
      "  dip[idx] = 100 * (self._dip[idx] / value)\n",
      "/opt/homebrew/Caskroom/miniforge/base/envs/nlp/lib/python3.9/site-packages/ta/trend.py:785: RuntimeWarning: invalid value encountered in double_scalars\n",
      "  din[idx] = 100 * (self._din[idx] / value)\n"
     ]
    }
   ],
   "source": [
    "# lets now add all the ta features\n",
    "df = add_all_ta_features(df, open=\"open\", high=\"high\", low=\"low\", close=\"close\", volume=\"volume\", fillna=True)"
   ]
  },
  {
   "cell_type": "code",
   "execution_count": 413,
   "metadata": {},
   "outputs": [
    {
     "data": {
      "text/html": [
       "<div>\n",
       "<style scoped>\n",
       "    .dataframe tbody tr th:only-of-type {\n",
       "        vertical-align: middle;\n",
       "    }\n",
       "\n",
       "    .dataframe tbody tr th {\n",
       "        vertical-align: top;\n",
       "    }\n",
       "\n",
       "    .dataframe thead th {\n",
       "        text-align: right;\n",
       "    }\n",
       "</style>\n",
       "<table border=\"1\" class=\"dataframe\">\n",
       "  <thead>\n",
       "    <tr style=\"text-align: right;\">\n",
       "      <th></th>\n",
       "      <th>open</th>\n",
       "      <th>high</th>\n",
       "      <th>low</th>\n",
       "      <th>close</th>\n",
       "      <th>volume</th>\n",
       "      <th>volume_adi</th>\n",
       "      <th>volume_obv</th>\n",
       "      <th>volume_cmf</th>\n",
       "      <th>volume_fi</th>\n",
       "      <th>volume_em</th>\n",
       "      <th>...</th>\n",
       "      <th>momentum_ppo</th>\n",
       "      <th>momentum_ppo_signal</th>\n",
       "      <th>momentum_ppo_hist</th>\n",
       "      <th>momentum_pvo</th>\n",
       "      <th>momentum_pvo_signal</th>\n",
       "      <th>momentum_pvo_hist</th>\n",
       "      <th>momentum_kama</th>\n",
       "      <th>others_dr</th>\n",
       "      <th>others_dlr</th>\n",
       "      <th>others_cr</th>\n",
       "    </tr>\n",
       "  </thead>\n",
       "  <tbody>\n",
       "    <tr>\n",
       "      <th>0</th>\n",
       "      <td>466.500</td>\n",
       "      <td>466.6800</td>\n",
       "      <td>465.850</td>\n",
       "      <td>466.680</td>\n",
       "      <td>15308.0</td>\n",
       "      <td>1.530800e+04</td>\n",
       "      <td>15308.0</td>\n",
       "      <td>1.000000</td>\n",
       "      <td>0.000000e+00</td>\n",
       "      <td>0.000000</td>\n",
       "      <td>...</td>\n",
       "      <td>0.000000</td>\n",
       "      <td>0.000000</td>\n",
       "      <td>0.000000</td>\n",
       "      <td>0.000000</td>\n",
       "      <td>0.000000</td>\n",
       "      <td>0.000000</td>\n",
       "      <td>466.680000</td>\n",
       "      <td>5.361204</td>\n",
       "      <td>0.000000</td>\n",
       "      <td>0.000000</td>\n",
       "    </tr>\n",
       "    <tr>\n",
       "      <th>1</th>\n",
       "      <td>466.740</td>\n",
       "      <td>466.8600</td>\n",
       "      <td>466.220</td>\n",
       "      <td>466.220</td>\n",
       "      <td>5440.0</td>\n",
       "      <td>9.868000e+03</td>\n",
       "      <td>9868.0</td>\n",
       "      <td>0.475612</td>\n",
       "      <td>-2.502400e+03</td>\n",
       "      <td>3235.294118</td>\n",
       "      <td>...</td>\n",
       "      <td>-0.007864</td>\n",
       "      <td>-0.001573</td>\n",
       "      <td>-0.006291</td>\n",
       "      <td>-5.400212</td>\n",
       "      <td>-1.080042</td>\n",
       "      <td>-4.320169</td>\n",
       "      <td>466.556241</td>\n",
       "      <td>-0.098569</td>\n",
       "      <td>-0.098617</td>\n",
       "      <td>-0.098569</td>\n",
       "    </tr>\n",
       "    <tr>\n",
       "      <th>2</th>\n",
       "      <td>466.000</td>\n",
       "      <td>466.8000</td>\n",
       "      <td>465.950</td>\n",
       "      <td>466.200</td>\n",
       "      <td>7542.0</td>\n",
       "      <td>6.762471e+03</td>\n",
       "      <td>2326.0</td>\n",
       "      <td>0.239041</td>\n",
       "      <td>-2.166463e+03</td>\n",
       "      <td>-1859.586317</td>\n",
       "      <td>...</td>\n",
       "      <td>-0.014278</td>\n",
       "      <td>-0.004114</td>\n",
       "      <td>-0.010164</td>\n",
       "      <td>-8.731437</td>\n",
       "      <td>-2.610321</td>\n",
       "      <td>-6.121116</td>\n",
       "      <td>466.461493</td>\n",
       "      <td>-0.004290</td>\n",
       "      <td>-0.004290</td>\n",
       "      <td>-0.102854</td>\n",
       "    </tr>\n",
       "    <tr>\n",
       "      <th>3</th>\n",
       "      <td>466.240</td>\n",
       "      <td>466.3400</td>\n",
       "      <td>465.720</td>\n",
       "      <td>465.820</td>\n",
       "      <td>5621.0</td>\n",
       "      <td>2.954696e+03</td>\n",
       "      <td>-3295.0</td>\n",
       "      <td>0.087131</td>\n",
       "      <td>-2.162108e+03</td>\n",
       "      <td>-3805.372709</td>\n",
       "      <td>...</td>\n",
       "      <td>-0.025640</td>\n",
       "      <td>-0.008419</td>\n",
       "      <td>-0.017221</td>\n",
       "      <td>-12.741628</td>\n",
       "      <td>-4.636583</td>\n",
       "      <td>-8.105045</td>\n",
       "      <td>466.282514</td>\n",
       "      <td>-0.081510</td>\n",
       "      <td>-0.081543</td>\n",
       "      <td>-0.184280</td>\n",
       "    </tr>\n",
       "    <tr>\n",
       "      <th>4</th>\n",
       "      <td>465.950</td>\n",
       "      <td>465.9500</td>\n",
       "      <td>465.330</td>\n",
       "      <td>465.330</td>\n",
       "      <td>5382.0</td>\n",
       "      <td>-2.427304e+03</td>\n",
       "      <td>-8677.0</td>\n",
       "      <td>-0.061774</td>\n",
       "      <td>-2.229976e+03</td>\n",
       "      <td>-4492.753623</td>\n",
       "      <td>...</td>\n",
       "      <td>-0.042634</td>\n",
       "      <td>-0.015262</td>\n",
       "      <td>-0.027372</td>\n",
       "      <td>-16.284945</td>\n",
       "      <td>-6.966255</td>\n",
       "      <td>-9.318690</td>\n",
       "      <td>466.006870</td>\n",
       "      <td>-0.105191</td>\n",
       "      <td>-0.105246</td>\n",
       "      <td>-0.289277</td>\n",
       "    </tr>\n",
       "    <tr>\n",
       "      <th>...</th>\n",
       "      <td>...</td>\n",
       "      <td>...</td>\n",
       "      <td>...</td>\n",
       "      <td>...</td>\n",
       "      <td>...</td>\n",
       "      <td>...</td>\n",
       "      <td>...</td>\n",
       "      <td>...</td>\n",
       "      <td>...</td>\n",
       "      <td>...</td>\n",
       "      <td>...</td>\n",
       "      <td>...</td>\n",
       "      <td>...</td>\n",
       "      <td>...</td>\n",
       "      <td>...</td>\n",
       "      <td>...</td>\n",
       "      <td>...</td>\n",
       "      <td>...</td>\n",
       "      <td>...</td>\n",
       "      <td>...</td>\n",
       "      <td>...</td>\n",
       "    </tr>\n",
       "    <tr>\n",
       "      <th>1837</th>\n",
       "      <td>451.070</td>\n",
       "      <td>452.3078</td>\n",
       "      <td>450.800</td>\n",
       "      <td>451.990</td>\n",
       "      <td>4627305.0</td>\n",
       "      <td>2.949195e+08</td>\n",
       "      <td>22632473.0</td>\n",
       "      <td>-0.157299</td>\n",
       "      <td>-1.760426e+06</td>\n",
       "      <td>-8.182054</td>\n",
       "      <td>...</td>\n",
       "      <td>-0.202634</td>\n",
       "      <td>-0.184152</td>\n",
       "      <td>-0.018483</td>\n",
       "      <td>-0.018201</td>\n",
       "      <td>-27.823990</td>\n",
       "      <td>27.805789</td>\n",
       "      <td>452.983986</td>\n",
       "      <td>0.197295</td>\n",
       "      <td>0.197101</td>\n",
       "      <td>-3.147767</td>\n",
       "    </tr>\n",
       "    <tr>\n",
       "      <th>1838</th>\n",
       "      <td>451.985</td>\n",
       "      <td>452.4300</td>\n",
       "      <td>451.565</td>\n",
       "      <td>451.695</td>\n",
       "      <td>2959783.0</td>\n",
       "      <td>2.928494e+08</td>\n",
       "      <td>19672690.0</td>\n",
       "      <td>-0.253813</td>\n",
       "      <td>-1.633671e+06</td>\n",
       "      <td>12.964261</td>\n",
       "      <td>...</td>\n",
       "      <td>-0.211304</td>\n",
       "      <td>-0.189582</td>\n",
       "      <td>-0.021722</td>\n",
       "      <td>0.509943</td>\n",
       "      <td>-22.157204</td>\n",
       "      <td>22.667146</td>\n",
       "      <td>452.788341</td>\n",
       "      <td>-0.065267</td>\n",
       "      <td>-0.065288</td>\n",
       "      <td>-3.210980</td>\n",
       "    </tr>\n",
       "    <tr>\n",
       "      <th>1839</th>\n",
       "      <td>451.690</td>\n",
       "      <td>451.7500</td>\n",
       "      <td>450.110</td>\n",
       "      <td>450.350</td>\n",
       "      <td>5265960.0</td>\n",
       "      <td>2.891247e+08</td>\n",
       "      <td>14406730.0</td>\n",
       "      <td>-0.345226</td>\n",
       "      <td>-2.412106e+06</td>\n",
       "      <td>-33.245600</td>\n",
       "      <td>...</td>\n",
       "      <td>-0.239408</td>\n",
       "      <td>-0.199547</td>\n",
       "      <td>-0.039861</td>\n",
       "      <td>7.048939</td>\n",
       "      <td>-16.315975</td>\n",
       "      <td>23.364914</td>\n",
       "      <td>452.301901</td>\n",
       "      <td>-0.297767</td>\n",
       "      <td>-0.298212</td>\n",
       "      <td>-3.499186</td>\n",
       "    </tr>\n",
       "    <tr>\n",
       "      <th>1840</th>\n",
       "      <td>450.330</td>\n",
       "      <td>450.5100</td>\n",
       "      <td>449.670</td>\n",
       "      <td>450.430</td>\n",
       "      <td>3067914.0</td>\n",
       "      <td>2.916083e+08</td>\n",
       "      <td>17474644.0</td>\n",
       "      <td>-0.228312</td>\n",
       "      <td>-2.032457e+06</td>\n",
       "      <td>-22.999341</td>\n",
       "      <td>...</td>\n",
       "      <td>-0.257329</td>\n",
       "      <td>-0.211104</td>\n",
       "      <td>-0.046225</td>\n",
       "      <td>6.204162</td>\n",
       "      <td>-11.811948</td>\n",
       "      <td>18.016110</td>\n",
       "      <td>451.966308</td>\n",
       "      <td>0.017764</td>\n",
       "      <td>0.017762</td>\n",
       "      <td>-3.482043</td>\n",
       "    </tr>\n",
       "    <tr>\n",
       "      <th>1841</th>\n",
       "      <td>450.430</td>\n",
       "      <td>450.4400</td>\n",
       "      <td>449.350</td>\n",
       "      <td>449.931</td>\n",
       "      <td>2764547.0</td>\n",
       "      <td>2.917909e+08</td>\n",
       "      <td>14710097.0</td>\n",
       "      <td>-0.204864</td>\n",
       "      <td>-1.939179e+06</td>\n",
       "      <td>-7.688421</td>\n",
       "      <td>...</td>\n",
       "      <td>-0.277276</td>\n",
       "      <td>-0.224338</td>\n",
       "      <td>-0.052938</td>\n",
       "      <td>4.697736</td>\n",
       "      <td>-8.510011</td>\n",
       "      <td>13.207747</td>\n",
       "      <td>451.543748</td>\n",
       "      <td>-0.110783</td>\n",
       "      <td>-0.110844</td>\n",
       "      <td>-3.588969</td>\n",
       "    </tr>\n",
       "  </tbody>\n",
       "</table>\n",
       "<p>1842 rows × 91 columns</p>\n",
       "</div>"
      ],
      "text/plain": [
       "         open      high      low    close     volume    volume_adi  \\\n",
       "0     466.500  466.6800  465.850  466.680    15308.0  1.530800e+04   \n",
       "1     466.740  466.8600  466.220  466.220     5440.0  9.868000e+03   \n",
       "2     466.000  466.8000  465.950  466.200     7542.0  6.762471e+03   \n",
       "3     466.240  466.3400  465.720  465.820     5621.0  2.954696e+03   \n",
       "4     465.950  465.9500  465.330  465.330     5382.0 -2.427304e+03   \n",
       "...       ...       ...      ...      ...        ...           ...   \n",
       "1837  451.070  452.3078  450.800  451.990  4627305.0  2.949195e+08   \n",
       "1838  451.985  452.4300  451.565  451.695  2959783.0  2.928494e+08   \n",
       "1839  451.690  451.7500  450.110  450.350  5265960.0  2.891247e+08   \n",
       "1840  450.330  450.5100  449.670  450.430  3067914.0  2.916083e+08   \n",
       "1841  450.430  450.4400  449.350  449.931  2764547.0  2.917909e+08   \n",
       "\n",
       "      volume_obv  volume_cmf     volume_fi    volume_em  ...  momentum_ppo  \\\n",
       "0        15308.0    1.000000  0.000000e+00     0.000000  ...      0.000000   \n",
       "1         9868.0    0.475612 -2.502400e+03  3235.294118  ...     -0.007864   \n",
       "2         2326.0    0.239041 -2.166463e+03 -1859.586317  ...     -0.014278   \n",
       "3        -3295.0    0.087131 -2.162108e+03 -3805.372709  ...     -0.025640   \n",
       "4        -8677.0   -0.061774 -2.229976e+03 -4492.753623  ...     -0.042634   \n",
       "...          ...         ...           ...          ...  ...           ...   \n",
       "1837  22632473.0   -0.157299 -1.760426e+06    -8.182054  ...     -0.202634   \n",
       "1838  19672690.0   -0.253813 -1.633671e+06    12.964261  ...     -0.211304   \n",
       "1839  14406730.0   -0.345226 -2.412106e+06   -33.245600  ...     -0.239408   \n",
       "1840  17474644.0   -0.228312 -2.032457e+06   -22.999341  ...     -0.257329   \n",
       "1841  14710097.0   -0.204864 -1.939179e+06    -7.688421  ...     -0.277276   \n",
       "\n",
       "      momentum_ppo_signal  momentum_ppo_hist  momentum_pvo  \\\n",
       "0                0.000000           0.000000      0.000000   \n",
       "1               -0.001573          -0.006291     -5.400212   \n",
       "2               -0.004114          -0.010164     -8.731437   \n",
       "3               -0.008419          -0.017221    -12.741628   \n",
       "4               -0.015262          -0.027372    -16.284945   \n",
       "...                   ...                ...           ...   \n",
       "1837            -0.184152          -0.018483     -0.018201   \n",
       "1838            -0.189582          -0.021722      0.509943   \n",
       "1839            -0.199547          -0.039861      7.048939   \n",
       "1840            -0.211104          -0.046225      6.204162   \n",
       "1841            -0.224338          -0.052938      4.697736   \n",
       "\n",
       "      momentum_pvo_signal  momentum_pvo_hist  momentum_kama  others_dr  \\\n",
       "0                0.000000           0.000000     466.680000   5.361204   \n",
       "1               -1.080042          -4.320169     466.556241  -0.098569   \n",
       "2               -2.610321          -6.121116     466.461493  -0.004290   \n",
       "3               -4.636583          -8.105045     466.282514  -0.081510   \n",
       "4               -6.966255          -9.318690     466.006870  -0.105191   \n",
       "...                   ...                ...            ...        ...   \n",
       "1837           -27.823990          27.805789     452.983986   0.197295   \n",
       "1838           -22.157204          22.667146     452.788341  -0.065267   \n",
       "1839           -16.315975          23.364914     452.301901  -0.297767   \n",
       "1840           -11.811948          18.016110     451.966308   0.017764   \n",
       "1841            -8.510011          13.207747     451.543748  -0.110783   \n",
       "\n",
       "      others_dlr  others_cr  \n",
       "0       0.000000   0.000000  \n",
       "1      -0.098617  -0.098569  \n",
       "2      -0.004290  -0.102854  \n",
       "3      -0.081543  -0.184280  \n",
       "4      -0.105246  -0.289277  \n",
       "...          ...        ...  \n",
       "1837    0.197101  -3.147767  \n",
       "1838   -0.065288  -3.210980  \n",
       "1839   -0.298212  -3.499186  \n",
       "1840    0.017762  -3.482043  \n",
       "1841   -0.110844  -3.588969  \n",
       "\n",
       "[1842 rows x 91 columns]"
      ]
     },
     "execution_count": 413,
     "metadata": {},
     "output_type": "execute_result"
    }
   ],
   "source": [
    "df"
   ]
  },
  {
   "cell_type": "code",
   "execution_count": 414,
   "metadata": {},
   "outputs": [],
   "source": [
    "# # let's remove some features\n",
    "# remove = ['trend_psar_up', 'trend_psar_down']\n",
    "# df.drop(columns=remove,axis=1,inplace=True)"
   ]
  },
  {
   "cell_type": "code",
   "execution_count": 415,
   "metadata": {},
   "outputs": [],
   "source": [
    "# window_size = 2\n",
    "# target = df['close'].rolling(window_size).apply(lambda x: (x[-1] - x[0]) / x[0], raw=True).values\n",
    "\n",
    "# creating windows 1 month with 1d intervals\n",
    "window_size = 12\n",
    "target = df['close'].rolling(window_size).apply(lambda x: (x[-1] - x[0]) / x[0], raw=True).values"
   ]
  },
  {
   "cell_type": "code",
   "execution_count": 416,
   "metadata": {},
   "outputs": [],
   "source": [
    "# lets scale our data, not including our target\n",
    "scaler = MinMaxScaler(feature_range=(0,1))\n",
    "scaler = scaler.fit(df.values)\n",
    "data_normalized = scaler.transform(df.values)"
   ]
  },
  {
   "cell_type": "code",
   "execution_count": 417,
   "metadata": {},
   "outputs": [
    {
     "data": {
      "text/plain": [
       "((1842,), (1842, 91))"
      ]
     },
     "execution_count": 417,
     "metadata": {},
     "output_type": "execute_result"
    }
   ],
   "source": [
    "target.shape, data_normalized.shape"
   ]
  },
  {
   "cell_type": "code",
   "execution_count": 418,
   "metadata": {},
   "outputs": [],
   "source": [
    "from dataclasses import dataclass"
   ]
  },
  {
   "cell_type": "code",
   "execution_count": 419,
   "metadata": {},
   "outputs": [],
   "source": [
    "class Data:\n",
    "    def __init__(self, data, target): self.data, self.target = data, target\n",
    "    def __len__(self): return len(self.data)\n",
    "    def __getitem__(self, i): return self.data[i], self.target[i]"
   ]
  },
  {
   "cell_type": "code",
   "execution_count": 420,
   "metadata": {},
   "outputs": [],
   "source": [
    "data = Data(data_normalized, target)"
   ]
  },
  {
   "cell_type": "code",
   "execution_count": 421,
   "metadata": {},
   "outputs": [],
   "source": [
    "def create_window(data, start=0, size=28):\n",
    "    \"\"\"Create a window of data\"\"\"\n",
    "    x, y = data[start:start+size]\n",
    "    return {'data': x, 'target': y[-1]}"
   ]
  },
  {
   "cell_type": "code",
   "execution_count": 422,
   "metadata": {},
   "outputs": [
    {
     "data": {
      "text/plain": [
       "(12, 91)"
      ]
     },
     "execution_count": 422,
     "metadata": {},
     "output_type": "execute_result"
    }
   ],
   "source": [
    "window = create_window(data, start=1, size=window_size)\n",
    "window['data'].shape"
   ]
  },
  {
   "cell_type": "code",
   "execution_count": 423,
   "metadata": {},
   "outputs": [
    {
     "data": {
      "text/plain": [
       "1830"
      ]
     },
     "execution_count": 423,
     "metadata": {},
     "output_type": "execute_result"
    }
   ],
   "source": [
    "# create window sliding with stride of 1\n",
    "windows = [create_window(data, start=i, size=window_size) for i in range(len(data)-window_size)]\n",
    "len(windows)"
   ]
  },
  {
   "cell_type": "code",
   "execution_count": 424,
   "metadata": {},
   "outputs": [],
   "source": [
    "# create a split of windows to train and test\n",
    "train_split = int(len(windows) * 0.8)\n",
    "train_windows = windows[:train_split]\n",
    "test_windows = windows[train_split:]"
   ]
  },
  {
   "cell_type": "code",
   "execution_count": 425,
   "metadata": {},
   "outputs": [],
   "source": [
    "gasf = GramianAngularField(image_size=28, method='summation')\n",
    "gadf = GramianAngularField(image_size=28, method='difference')"
   ]
  },
  {
   "cell_type": "code",
   "execution_count": 426,
   "metadata": {},
   "outputs": [],
   "source": [
    "# lets create our CNN dataset class\n",
    "class CNNDataset(Dataset):\n",
    "    def __init__(self, windows, transform_fn=gasf, conv3d=False):\n",
    "        self.conv3d = conv3d\n",
    "        self.X = [transform_fn.fit_transform(window['data']) for window in windows]\n",
    "        self.y = [window['target'] for window in windows]\n",
    "\n",
    "    def __len__(self): return len(self.y)\n",
    "    def __getitem__(self, idx):\n",
    "        x = torch.tensor(self.X[idx], dtype=torch.float)\n",
    "        # reshape for conv3\n",
    "        if self.conv3d: x = x[None, :, :, :]\n",
    "        y = torch.tensor(self.y[idx], dtype=torch.float).unsqueeze(0)\n",
    "        return x, y"
   ]
  },
  {
   "cell_type": "code",
   "execution_count": 427,
   "metadata": {},
   "outputs": [],
   "source": [
    "from dataclasses import dataclass"
   ]
  },
  {
   "cell_type": "code",
   "execution_count": 428,
   "metadata": {},
   "outputs": [],
   "source": [
    "@dataclass\n",
    "class Dls:\n",
    "    train: DataLoader\n",
    "    valid: DataLoader"
   ]
  },
  {
   "cell_type": "code",
   "execution_count": 429,
   "metadata": {},
   "outputs": [],
   "source": [
    "conv3d = True\n",
    "\n",
    "train_ds = CNNDataset(train_windows, conv3d=conv3d, transform_fn=gadf)\n",
    "valid_ds = CNNDataset(test_windows, conv3d=conv3d, transform_fn=gadf)"
   ]
  },
  {
   "cell_type": "code",
   "execution_count": 430,
   "metadata": {},
   "outputs": [],
   "source": [
    "# create our dataloaders\n",
    "dls = Dls(\n",
    "    train = DataLoader(train_ds, batch_size=32, shuffle=True),\n",
    "    valid = DataLoader(valid_ds, batch_size=32, shuffle=False))"
   ]
  },
  {
   "cell_type": "code",
   "execution_count": 431,
   "metadata": {},
   "outputs": [],
   "source": [
    "xb, yb = next(iter(dls.train))"
   ]
  },
  {
   "cell_type": "code",
   "execution_count": 432,
   "metadata": {},
   "outputs": [
    {
     "data": {
      "text/plain": [
       "(torch.Size([32, 1, 12, 28, 28]), torch.Size([32, 1]))"
      ]
     },
     "execution_count": 432,
     "metadata": {},
     "output_type": "execute_result"
    }
   ],
   "source": [
    "xb.shape, yb.shape"
   ]
  },
  {
   "cell_type": "code",
   "execution_count": 433,
   "metadata": {},
   "outputs": [],
   "source": [
    "def_device = \"mps\" if torch.backends.mps.is_available() else 'cuda' if torch.cuda.is_available() else 'cpu'\n",
    "def_device = 'cpu' if conv3d else def_device\n",
    "\n",
    "def to_device(data, device=def_device):\n",
    "    \"\"\"Move tensor(s) to chosen device\"\"\"\n",
    "    if isinstance(data, (list,tuple)): return [to_device(x, device) for x in data]\n",
    "    return data.to(device, non_blocking=True)"
   ]
  },
  {
   "cell_type": "code",
   "execution_count": 434,
   "metadata": {},
   "outputs": [],
   "source": [
    "class Learner:\n",
    "    \"\"\"This is our main class that will be responsible to experimenting and training various models. It serves the purpose of being a vehicle to experiment quickly\"\"\"\n",
    "    def __init__(self, model, dls, loss_func, lr, opt_func=optim.SGD):\n",
    "        \"\"\"\n",
    "        model: <PyTorch Model> the model we are going to train\n",
    "        dls: <Pytorch DataLoader> the dataloaders we are going to use\n",
    "        loss_func: <Callable> the loss function we are going to use\n",
    "        lr: <float> the learning rate we are going to use\n",
    "        opt_func: <PyTorch optimizer (can be custom)> the optimizer we are going to use\n",
    "        \"\"\"\n",
    "        fc.store_attr() # easy method to store all attributes, prevents mistakes\n",
    "\n",
    "    def one_batch(self):\n",
    "        \"\"\"This method is responsible for one batch of training/evaluation\"\"\"\n",
    "        self.xb, self.yb = to_device(self.batch) # move batch to device\n",
    "        self.preds = self.model(self.xb) # get predictions\n",
    "        self.loss = self.loss_func(self.preds, self.yb) # calculate loss\n",
    "        if self.model.training:\n",
    "            self.loss.backward() # calculate gradients\n",
    "            self.opt.step() # update weights\n",
    "            self.opt.zero_grad() # zero gradients\n",
    "        with torch.no_grad(): self.calc_stats()\n",
    "\n",
    "    def calc_stats(self):\n",
    "        \"\"\"This method is responsible for calculating statistics\"\"\"\n",
    "        n = len(self.xb)\n",
    "        self.losses.append(self.loss*n)\n",
    "        self.ns.append(n)\n",
    "    \n",
    "    def one_epoch(self, train):\n",
    "        self.model.training = train # set model to training mode or evaluation mode\n",
    "        dl = self.dls.train if train else self.dls.valid # get the correct dataloader\n",
    "        for self.num, self.batch in enumerate(dl): \n",
    "            self.one_batch() # call one_batch method, self.batch will be set to the current batch\n",
    "        n = sum(self.ns)\n",
    "        print(f\"Epoch: {self.epoch+1}\", 'train' if self.model.training else 'valid', f\"Loss: {sum(self.losses).item()/n}\")\n",
    "    \n",
    "    def fit(self, n_epochs):\n",
    "        \"\"\"Very lightweight fit method, this is the highest level to train a model via the Learner object\"\"\"\n",
    "        self.losses, self.ns = [], []\n",
    "        self.model.to(def_device) # place model on appropriate device TODO: Allow this to be changed via fit calls if necessary\n",
    "        self.opt = self.opt_func(self.model.parameters(), lr=self.lr) # create optimizer\n",
    "        self.n_epochs = n_epochs\n",
    "        for self.epoch in range(n_epochs):\n",
    "            self.one_epoch(True) # training\n",
    "            self.one_epoch(False) # evaluation"
   ]
  },
  {
   "cell_type": "code",
   "execution_count": 435,
   "metadata": {},
   "outputs": [],
   "source": [
    "def conv(ni, nf, ks=3, stride=2, act=True):\n",
    "    res = nn.Conv2d(ni, nf, kernel_size=ks, stride=stride, padding=ks//2)\n",
    "    if act: res = nn.Sequential(res, nn.ReLU())\n",
    "    return res"
   ]
  },
  {
   "cell_type": "code",
   "execution_count": 436,
   "metadata": {},
   "outputs": [],
   "source": [
    "# # Let's now create a simple cnn\n",
    "# simple_cnn = nn.Sequential(\n",
    "#     conv(20, 4),\n",
    "#     conv(4, 8),\n",
    "#     conv(8, 16),\n",
    "#     conv(16, 16),\n",
    "#     conv(16, 1, act=False),\n",
    "#     nn.Flatten() # flatten our conv output to feed into a linear layer\n",
    "# )"
   ]
  },
  {
   "cell_type": "code",
   "execution_count": 437,
   "metadata": {},
   "outputs": [],
   "source": [
    "class SimpleCNN2D(nn.Module):\n",
    "    def __init__(self, input_shape):\n",
    "        super().__init__()\n",
    "        batch_size, channels, height, width = input_shape\n",
    "        self.conv_layers = nn.Sequential(\n",
    "            conv(channels, 16),\n",
    "            conv(16, 32),\n",
    "            conv(32, 64),\n",
    "            conv(64, 64),\n",
    "            conv(64, 1, act=False),\n",
    "        )\n",
    "        self.head = nn.Sequential(\n",
    "            nn.Flatten(),\n",
    "        )\n",
    "\n",
    "    def forward(self, x):\n",
    "        x = self.conv_layers(x)\n",
    "        x = self.head(x)\n",
    "        return x\n",
    "\n",
    "class SimpleCNN3D(nn.Module):\n",
    "    def __init__(self, input_shape, activation=nn.ReLU):\n",
    "        super(SimpleCNN3D, self).__init__()\n",
    "        batch_size, channels, depth, height, width = input_shape\n",
    "        self.conv_layers = nn.Sequential(\n",
    "            nn.Conv3d(1, 16, kernel_size=(3, 3, 3), stride=(1, 1, 1), padding=(1, 1, 1)),\n",
    "            activation(),\n",
    "            nn.MaxPool3d(kernel_size=(2, 2, 2), stride=(2, 2, 2)),\n",
    "            nn.Conv3d(16, 32, kernel_size=(3, 3, 3), stride=(1, 1, 1), padding=(1, 1, 1)),\n",
    "            activation(),\n",
    "            nn.MaxPool3d(kernel_size=(2, 2, 2), stride=(2, 2, 2)),\n",
    "        )\n",
    "        # calculate the output size of the convolutional layers\n",
    "        conv_output_size = self._get_conv_output(input_shape)\n",
    "        self.head = nn.Sequential(\n",
    "            nn.Flatten(),\n",
    "            nn.Linear(conv_output_size, 64),\n",
    "            activation(),\n",
    "            nn.Linear(64, 1)\n",
    "        )\n",
    "\n",
    "    def forward(self, x):\n",
    "        x = self.conv_layers(x)\n",
    "        x = self.head(x)\n",
    "        return x\n",
    "\n",
    "    def _get_conv_output(self, shape):\n",
    "        batch_size = shape[0]\n",
    "        input = torch.autograd.Variable(torch.rand(*shape))\n",
    "        output_feat = self.conv_layers(input)\n",
    "        n_size = output_feat.data.view(batch_size, -1).size(1)\n",
    "        return n_size\n",
    "    \n",
    "class TinyCNN(nn.Module):\n",
    "    def __init__(self, input_shape, activation=nn.ReLU):\n",
    "        super(TinyCNN, self).__init__()\n",
    "        _, _, depth, height, width = input_shape\n",
    "        self.conv_layers = nn.Sequential(\n",
    "            nn.Conv3d(1, 8, kernel_size=(3, 3, 3), stride=(1, 1, 1), padding=(1, 1, 1)),\n",
    "            activation(),\n",
    "            nn.MaxPool3d(kernel_size=(2, 2, 2), stride=(2, 2, 2)),\n",
    "            nn.Conv3d(8, 16, kernel_size=(3, 3, 3), stride=(1, 1, 1), padding=(1, 1, 1)),\n",
    "            activation(),\n",
    "            nn.MaxPool3d(kernel_size=(2, 2, 2), stride=(2, 2, 2)),\n",
    "        )\n",
    "        # calculate the output size of the convolutional layers\n",
    "        conv_output_size = self._get_conv_output(input_shape)\n",
    "        self.head = nn.Sequential(\n",
    "            nn.Flatten(),\n",
    "            nn.Linear(conv_output_size, 16),\n",
    "            activation(),\n",
    "            nn.Linear(16, 1)\n",
    "        )\n",
    "    def forward(self, x):\n",
    "        x = self.conv_layers(x)\n",
    "        x = self.head(x)\n",
    "        return x\n",
    "\n",
    "    def _get_conv_output(self, shape):\n",
    "        batch_size = shape[0]\n",
    "        input = torch.autograd.Variable(torch.rand(*shape))\n",
    "        output_feat = self.conv_layers(input)\n",
    "        n_size = output_feat.data.view(batch_size, -1).size(1)\n",
    "        return n_size"
   ]
  },
  {
   "cell_type": "code",
   "execution_count": 459,
   "metadata": {},
   "outputs": [],
   "source": [
    "# # create a simple 2d cnn\n",
    "# simple_cnn = SimpleCNN2D(xb.shape)\n",
    "# create a simple 3d cnn\n",
    "simple_cnn = TinyCNN(xb.shape, activation=nn.GELU)"
   ]
  },
  {
   "cell_type": "code",
   "execution_count": 460,
   "metadata": {},
   "outputs": [
    {
     "data": {
      "text/plain": [
       "41361"
      ]
     },
     "execution_count": 460,
     "metadata": {},
     "output_type": "execute_result"
    }
   ],
   "source": [
    "# number of parameters\n",
    "sum(p.numel() for p in simple_cnn.parameters() if p.requires_grad)"
   ]
  },
  {
   "cell_type": "code",
   "execution_count": 461,
   "metadata": {},
   "outputs": [],
   "source": [
    "learn = Learner(simple_cnn, dls, nn.MSELoss(), lr=0.01, opt_func=optim.RAdam)"
   ]
  },
  {
   "cell_type": "code",
   "execution_count": 462,
   "metadata": {},
   "outputs": [
    {
     "name": "stdout",
     "output_type": "stream",
     "text": [
      "Epoch: 1 train Loss: 0.00849320328300768\n",
      "Epoch: 1 valid Loss: 0.006979586908726093\n",
      "Epoch: 2 train Loss: 0.003931517447568318\n",
      "Epoch: 2 valid Loss: 0.0035454367027908077\n",
      "Epoch: 3 train Loss: 0.002548788786865044\n",
      "Epoch: 3 valid Loss: 0.0023823939603100273\n",
      "Epoch: 4 train Loss: 0.001888299146053741\n",
      "Epoch: 4 valid Loss: 0.0017952255863960974\n",
      "Epoch: 5 train Loss: 0.0015008868632637954\n",
      "Epoch: 5 valid Loss: 0.001441986000603014\n",
      "Epoch: 6 train Loss: 0.0012474246049345111\n",
      "Epoch: 6 valid Loss: 0.0012066696945218223\n",
      "Epoch: 7 train Loss: 0.0010672929163570767\n",
      "Epoch: 7 valid Loss: 0.0010375762897762444\n",
      "Epoch: 8 train Loss: 0.0009330828617112516\n",
      "Epoch: 8 valid Loss: 0.0009102859783693741\n",
      "Epoch: 9 train Loss: 0.0008296199065207014\n",
      "Epoch: 9 valid Loss: 0.000811917722478518\n",
      "Epoch: 10 train Loss: 0.0007473696324423004\n",
      "Epoch: 10 valid Loss: 0.0007329258111005273\n",
      "Epoch: 11 train Loss: 0.0006796474568734307\n",
      "Epoch: 11 valid Loss: 0.0006677332412408941\n",
      "Epoch: 12 train Loss: 0.00062342410817614\n",
      "Epoch: 12 valid Loss: 0.0006134119190153529\n",
      "Epoch: 13 train Loss: 0.0005760250277206546\n",
      "Epoch: 13 valid Loss: 0.0005675256928760196\n",
      "Epoch: 14 train Loss: 0.0005353174385571693\n",
      "Epoch: 14 valid Loss: 0.0005279989562678579\n",
      "Epoch: 15 train Loss: 0.0005001478824776044\n",
      "Epoch: 15 valid Loss: 0.0004938338232822106\n",
      "Epoch: 16 train Loss: 0.0004693190157805157\n",
      "Epoch: 16 valid Loss: 0.0004636661276791265\n",
      "Epoch: 17 train Loss: 0.00044199438911535265\n",
      "Epoch: 17 valid Loss: 0.0004369758095859293\n",
      "Epoch: 18 train Loss: 0.00041770694985854924\n",
      "Epoch: 18 valid Loss: 0.0004132908912014802\n",
      "Epoch: 19 train Loss: 0.0003961705424150552\n",
      "Epoch: 19 valid Loss: 0.00039227139788658617\n",
      "Epoch: 20 train Loss: 0.00037694941979341044\n",
      "Epoch: 20 valid Loss: 0.000373350961612222\n",
      "Epoch: 21 train Loss: 0.0003594074143036517\n",
      "Epoch: 21 valid Loss: 0.000356133282572349\n",
      "Epoch: 22 train Loss: 0.0003433124746673656\n",
      "Epoch: 22 valid Loss: 0.00034035269561479535\n",
      "Epoch: 23 train Loss: 0.00032862925755761633\n",
      "Epoch: 23 valid Loss: 0.00032594172794254126\n",
      "Epoch: 24 train Loss: 0.00031558743750265697\n",
      "Epoch: 24 valid Loss: 0.000313076143490595\n",
      "Epoch: 25 train Loss: 0.0003033015287975229\n",
      "Epoch: 25 valid Loss: 0.00030098568025182506\n",
      "Epoch: 26 train Loss: 0.0002919769642611302\n",
      "Epoch: 26 valid Loss: 0.0002898356352297385\n",
      "Epoch: 27 train Loss: 0.00028135920220395206\n",
      "Epoch: 27 valid Loss: 0.00027940598028291456\n",
      "Epoch: 28 train Loss: 0.00027153472009589755\n",
      "Epoch: 28 valid Loss: 0.00026971486096825107\n",
      "Epoch: 29 train Loss: 0.00026247721407438094\n",
      "Epoch: 29 valid Loss: 0.00026082823634574436\n",
      "Epoch: 30 train Loss: 0.00025405475276354256\n",
      "Epoch: 30 valid Loss: 0.0002524413089717455\n"
     ]
    }
   ],
   "source": [
    "learn.fit(30)"
   ]
  },
  {
   "cell_type": "code",
   "execution_count": 463,
   "metadata": {},
   "outputs": [],
   "source": [
    "# # save our model\n",
    "# torch.save(simple_cnn.state_dict(), \"simple_cnn_tsla_3.pth\")"
   ]
  },
  {
   "cell_type": "code",
   "execution_count": 468,
   "metadata": {},
   "outputs": [],
   "source": [
    "# saving our model\n",
    "torch.save(simple_cnn.state_dict(), \"simple_cnn_spy_3_tiny.pth\")"
   ]
  },
  {
   "cell_type": "code",
   "execution_count": 464,
   "metadata": {},
   "outputs": [],
   "source": [
    "# # load our model\n",
    "# simple_cnn.load_state_dict(torch.load(\"simple_cnn_tsla.pth\"))"
   ]
  },
  {
   "cell_type": "code",
   "execution_count": 465,
   "metadata": {},
   "outputs": [],
   "source": [
    "# let's run some predictions, we will plot the predictions and the actual values\n",
    "def plot_preds(preds, yb):\n",
    "    plt.plot(preds, label=\"preds\")\n",
    "    plt.plot(yb, label=\"actual\")\n",
    "    plt.legend()"
   ]
  },
  {
   "cell_type": "code",
   "execution_count": 466,
   "metadata": {},
   "outputs": [],
   "source": [
    "def predict_plot(xb, yb, model):\n",
    "    # move to device\n",
    "    xb, yb = to_device(xb), to_device(yb)\n",
    "    if isinstance(model, nn.Module): model = to_device(model)\n",
    "\n",
    "    # get predictions\n",
    "    preds = model(xb)\n",
    "\n",
    "    # plot predictions\n",
    "    with torch.no_grad(): plot_preds(preds.squeeze().detach().cpu().numpy(), yb.squeeze().detach().cpu().numpy())"
   ]
  },
  {
   "cell_type": "code",
   "execution_count": 467,
   "metadata": {},
   "outputs": [
    {
     "data": {
      "image/png": "[encoded data removed]",
      "text/plain": [
       "<Figure size 432x288 with 1 Axes>"
      ]
     },
     "metadata": {
      "needs_background": "light"
     },
     "output_type": "display_data"
    }
   ],
   "source": [
    "\"\"\"GELU Activation 30 epochs, TINY CNN\"\"\"\n",
    "# plot predictions\n",
    "xb, yb = next(iter(dls.valid))\n",
    "predict_plot(xb, yb, simple_cnn)"
   ]
  },
  {
   "cell_type": "code",
   "execution_count": 453,
   "metadata": {},
   "outputs": [
    {
     "data": {
      "image/png": "[encoded data removed]",
      "text/plain": [
       "<Figure size 432x288 with 1 Axes>"
      ]
     },
     "metadata": {
      "needs_background": "light"
     },
     "output_type": "display_data"
    }
   ],
   "source": [
    "\"\"\"GELU Activation 14 epochs, TINY CNN\"\"\"\n",
    "# plot predictions\n",
    "xb, yb = next(iter(dls.valid))\n",
    "predict_plot(xb, yb, simple_cnn)"
   ]
  },
  {
   "cell_type": "code",
   "execution_count": 454,
   "metadata": {},
   "outputs": [
    {
     "data": {
      "image/png": "[encoded data removed]",
      "text/plain": [
       "<Figure size 432x288 with 1 Axes>"
      ]
     },
     "metadata": {
      "needs_background": "light"
     },
     "output_type": "display_data"
    }
   ],
   "source": [
    "# plot predictions\n",
    "xb, yb = next(iter(dls.train))\n",
    "predict_plot(xb, yb, simple_cnn)"
   ]
  },
  {
   "cell_type": "code",
   "execution_count": null,
   "metadata": {},
   "outputs": [],
   "source": [
    "from functools import partial"
   ]
  },
  {
   "cell_type": "code",
   "execution_count": null,
   "metadata": {},
   "outputs": [],
   "source": [
    "def load_model(path, cnn):\n",
    "    # load our model\n",
    "    cnn.load_state_dict(torch.load(path))\n",
    "    cnn.eval()\n",
    "    return cnn\n",
    "\n",
    "def ensemble(models, xb):\n",
    "    models = [to_device(m) for m in models]\n",
    "    outs = 0\n",
    "    for model in models:\n",
    "        outs += model(xb)\n",
    "    return outs/len(models)"
   ]
  },
  {
   "cell_type": "code",
   "execution_count": null,
   "metadata": {},
   "outputs": [
    {
     "data": {
      "text/plain": [
       "<All keys matched successfully>"
      ]
     },
     "execution_count": 388,
     "metadata": {},
     "output_type": "execute_result"
    }
   ],
   "source": [
    "model1 = nn.Sequential(conv(20, 4), conv(4, 8), conv(8, 16), conv(16, 16),\n",
    "    conv(16, 1, act=False), nn.Flatten())\n",
    "model1.load_state_dict(torch.load(\"./model_weights/simple_cnn_tsla.pth\"))"
   ]
  },
  {
   "cell_type": "code",
   "execution_count": null,
   "metadata": {},
   "outputs": [
    {
     "data": {
      "text/plain": [
       "<All keys matched successfully>"
      ]
     },
     "execution_count": 380,
     "metadata": {},
     "output_type": "execute_result"
    }
   ],
   "source": [
    "model2 = nn.Sequential(conv(20, 4), conv(4, 8), conv(8, 16), conv(16, 16),\n",
    "    conv(16, 1, act=False), nn.Flatten())\n",
    "model2.load_state_dict(torch.load(\"./model_weights/simple_cnn_tsla_2.pth\"))"
   ]
  },
  {
   "cell_type": "code",
   "execution_count": null,
   "metadata": {},
   "outputs": [
    {
     "data": {
      "text/plain": [
       "<All keys matched successfully>"
      ]
     },
     "execution_count": 381,
     "metadata": {},
     "output_type": "execute_result"
    }
   ],
   "source": [
    "model3 = nn.Sequential(conv(20, 4), conv(4, 8), conv(8, 16), conv(16, 16),\n",
    "    conv(16, 1, act=False), nn.Flatten())\n",
    "model3.load_state_dict(torch.load(\"./model_weights/simple_cnn_tsla_3.pth\"))"
   ]
  },
  {
   "cell_type": "code",
   "execution_count": null,
   "metadata": {},
   "outputs": [],
   "source": [
    "# plot predictions\n",
    "xb, yb = next(iter(dls.valid))"
   ]
  },
  {
   "cell_type": "code",
   "execution_count": null,
   "metadata": {},
   "outputs": [
    {
     "data": {
      "image/png": "[encoded data removed]",
      "text/plain": [
       "<Figure size 432x288 with 1 Axes>"
      ]
     },
     "metadata": {
      "needs_background": "light"
     },
     "output_type": "display_data"
    }
   ],
   "source": [
    "# plot predictions\n",
    "xb, yb = next(iter(dls.valid))\n",
    "predict_plot(xb, yb, model1)"
   ]
  },
  {
   "cell_type": "code",
   "execution_count": null,
   "metadata": {},
   "outputs": [
    {
     "data": {
      "image/png": "[encoded data removed]",
      "text/plain": [
       "<Figure size 432x288 with 1 Axes>"
      ]
     },
     "metadata": {
      "needs_background": "light"
     },
     "output_type": "display_data"
    }
   ],
   "source": [
    "# plot predictions\n",
    "predict_plot(xb, yb, model2)"
   ]
  },
  {
   "cell_type": "code",
   "execution_count": null,
   "metadata": {},
   "outputs": [
    {
     "data": {
      "image/png": "[encoded data removed]",
      "text/plain": [
       "<Figure size 432x288 with 1 Axes>"
      ]
     },
     "metadata": {
      "needs_background": "light"
     },
     "output_type": "display_data"
    }
   ],
   "source": [
    "# plot predictions\n",
    "predict_plot(xb, yb, model3)"
   ]
  },
  {
   "cell_type": "code",
   "execution_count": null,
   "metadata": {},
   "outputs": [
    {
     "data": {
      "image/png": "[encoded data removed]",
      "text/plain": [
       "<Figure size 432x288 with 1 Axes>"
      ]
     },
     "metadata": {
      "needs_background": "light"
     },
     "output_type": "display_data"
    }
   ],
   "source": [
    "predict_plot(xb, yb, model=partial(ensemble, [model1, model2, model3]))"
   ]
  },
  {
   "cell_type": "code",
   "execution_count": null,
   "metadata": {},
   "outputs": [],
   "source": []
  },
  {
   "cell_type": "code",
   "execution_count": null,
   "metadata": {},
   "outputs": [],
   "source": []
  }
 ],
 "metadata": {
  "kernelspec": {
   "display_name": "nlp",
   "language": "python",
   "name": "python3"
  },
  "language_info": {
   "codemirror_mode": {
    "name": "ipython",
    "version": 3
   },
   "file_extension": ".py",
   "mimetype": "text/x-python",
   "name": "python",
   "nbconvert_exporter": "python",
   "pygments_lexer": "ipython3",
   "version": "3.9.6"
  },
  "orig_nbformat": 4,
  "vscode": {
   "interpreter": {
    "hash": "0638b84c441d23f3bf1e5bbb68dbbbae5f508c99744b50e7a508082753ac4090"
   }
  }
 },
 "nbformat": 4,
 "nbformat_minor": 2
}
